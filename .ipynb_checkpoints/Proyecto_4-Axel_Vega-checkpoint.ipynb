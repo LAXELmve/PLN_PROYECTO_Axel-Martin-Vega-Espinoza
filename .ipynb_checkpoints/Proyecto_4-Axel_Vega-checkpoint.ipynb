{
 "cells": [
  {
   "cell_type": "markdown",
   "id": "b185eae7-3b58-4200-bc9d-0f623cd9291a",
   "metadata": {},
   "source": [
    "# UNIDAD 4 - PROYECTO: ANÁLISIS DE SENTIMIENTOS Y PREDICCIÓN."
   ]
  },
  {
   "cell_type": "markdown",
   "id": "2405a7b0-0fb7-4ed1-8917-1ad164d6fc49",
   "metadata": {},
   "source": [
    "## ALUMNO: Axel Martin Vega Espinoza\n",
    "## NÚMERO DE CONTROL: 20120168\n"
   ]
  },
  {
   "cell_type": "markdown",
   "id": "cee466e6-74e5-4e6e-a68b-e8a6afc83fff",
   "metadata": {},
   "source": [
    "## PRESENTACIÓN.\n",
    "\n",
    "El siguiente proyecto consiste en emplear el análisis de sentimientos para tratar de predecir las calificaciones de una serie.\n",
    "\n",
    "El dataset es sobre las calificaciones que recibió la adaptación al \"live-action\" el anime \"OnePiece\".\n",
    "\n",
    "El dataset contiene las reseñas que se recibieron en la plataforma de Netflix, el dataset contiene información como:\n",
    "\n",
    "* Título.\n",
    "* Reseña.\n",
    "* Fecha.\n",
    "* Calificación.\n"
   ]
  },
  {
   "cell_type": "markdown",
   "id": "09814199-aff8-4c03-97ce-6c51eb266181",
   "metadata": {},
   "source": [
    "## ETAPA 1: ANÁLISIS EXPLORATORIO DE LOS DATOS."
   ]
  },
  {
   "cell_type": "markdown",
   "id": "623dabb8-f119-43f3-a9da-bda97c09ff07",
   "metadata": {},
   "source": [
    "### Paso 1. Importe las librerías necesarias (pandas, numpy, seaborn, nltk, etc...)"
   ]
  },
  {
   "cell_type": "code",
   "execution_count": 1,
   "id": "a75c8f00-db56-497f-aab8-00d8fb9a62f5",
   "metadata": {},
   "outputs": [],
   "source": [
    "# Importación de las librerías a utilizar.\n",
    "import pandas as pd\n",
    "import matplotlib.pyplot as plt\n",
    "import seaborn as sns\n",
    "import numpy as np\n",
    "import nltk"
   ]
  },
  {
   "cell_type": "code",
   "execution_count": 2,
   "id": "1e5f3cd3-b74d-4881-8e0d-819c369ef175",
   "metadata": {},
   "outputs": [],
   "source": [
    "# Quitar limite de columnas máximas\n",
    "pd.set_option('display.max_columns', None)"
   ]
  },
  {
   "cell_type": "markdown",
   "id": "aafb6f8b-42e9-4d44-b26d-e91046ce8ba7",
   "metadata": {},
   "source": [
    "### Paso 2. Cargue y muestre información del dataset; muestre información estadística de las columnas numéricas."
   ]
  },
  {
   "cell_type": "code",
   "execution_count": 3,
   "id": "39cdd2df-f4d9-4ef6-b47a-b3e206e96b1f",
   "metadata": {},
   "outputs": [],
   "source": [
    "df = pd.read_csv(\"datasets/reviews.csv\")"
   ]
  },
  {
   "cell_type": "code",
   "execution_count": 4,
   "id": "9026c33e-5b62-4070-a398-e172329602bb",
   "metadata": {},
   "outputs": [
    {
     "data": {
      "text/html": [
       "<div>\n",
       "<style scoped>\n",
       "    .dataframe tbody tr th:only-of-type {\n",
       "        vertical-align: middle;\n",
       "    }\n",
       "\n",
       "    .dataframe tbody tr th {\n",
       "        vertical-align: top;\n",
       "    }\n",
       "\n",
       "    .dataframe thead th {\n",
       "        text-align: right;\n",
       "    }\n",
       "</style>\n",
       "<table border=\"1\" class=\"dataframe\">\n",
       "  <thead>\n",
       "    <tr style=\"text-align: right;\">\n",
       "      <th></th>\n",
       "      <th>Title</th>\n",
       "      <th>Review</th>\n",
       "      <th>Date</th>\n",
       "      <th>Rating</th>\n",
       "    </tr>\n",
       "  </thead>\n",
       "  <tbody>\n",
       "    <tr>\n",
       "      <th>0</th>\n",
       "      <td>Never seen the anime and still enjoyed it</td>\n",
       "      <td>I have to admit that I've never watched any of...</td>\n",
       "      <td>4 September 2023</td>\n",
       "      <td>8.0</td>\n",
       "    </tr>\n",
       "    <tr>\n",
       "      <th>1</th>\n",
       "      <td>Not My Kind of Show. But This I Loved.</td>\n",
       "      <td>I'm a 60yo man &amp; old school like the The Marin...</td>\n",
       "      <td>4 September 2023</td>\n",
       "      <td>9.0</td>\n",
       "    </tr>\n",
       "    <tr>\n",
       "      <th>2</th>\n",
       "      <td>I'm Shocked By How Good This Is...</td>\n",
       "      <td>Every live action anime that I've briefly seen...</td>\n",
       "      <td>1 September 2023</td>\n",
       "      <td>9.0</td>\n",
       "    </tr>\n",
       "    <tr>\n",
       "      <th>3</th>\n",
       "      <td>See Netflix?? You CAN do it...</td>\n",
       "      <td>This is bar none one of the best live-action a...</td>\n",
       "      <td>4 September 2023</td>\n",
       "      <td>10.0</td>\n",
       "    </tr>\n",
       "    <tr>\n",
       "      <th>4</th>\n",
       "      <td>WE WANT SEASON 2</td>\n",
       "      <td>Being a one piece fan myself, I was a bit inse...</td>\n",
       "      <td>31 August 2023</td>\n",
       "      <td>10.0</td>\n",
       "    </tr>\n",
       "  </tbody>\n",
       "</table>\n",
       "</div>"
      ],
      "text/plain": [
       "                                       Title  \\\n",
       "0  Never seen the anime and still enjoyed it   \n",
       "1     Not My Kind of Show. But This I Loved.   \n",
       "2         I'm Shocked By How Good This Is...   \n",
       "3             See Netflix?? You CAN do it...   \n",
       "4                           WE WANT SEASON 2   \n",
       "\n",
       "                                              Review              Date  Rating  \n",
       "0  I have to admit that I've never watched any of...  4 September 2023     8.0  \n",
       "1  I'm a 60yo man & old school like the The Marin...  4 September 2023     9.0  \n",
       "2  Every live action anime that I've briefly seen...  1 September 2023     9.0  \n",
       "3  This is bar none one of the best live-action a...  4 September 2023    10.0  \n",
       "4  Being a one piece fan myself, I was a bit inse...    31 August 2023    10.0  "
      ]
     },
     "metadata": {},
     "output_type": "display_data"
    }
   ],
   "source": [
    "display(df.head())"
   ]
  },
  {
   "cell_type": "code",
   "execution_count": 5,
   "id": "a05a4347-1fd2-4a17-9599-a9572380a172",
   "metadata": {},
   "outputs": [
    {
     "data": {
      "text/html": [
       "<div>\n",
       "<style scoped>\n",
       "    .dataframe tbody tr th:only-of-type {\n",
       "        vertical-align: middle;\n",
       "    }\n",
       "\n",
       "    .dataframe tbody tr th {\n",
       "        vertical-align: top;\n",
       "    }\n",
       "\n",
       "    .dataframe thead th {\n",
       "        text-align: right;\n",
       "    }\n",
       "</style>\n",
       "<table border=\"1\" class=\"dataframe\">\n",
       "  <thead>\n",
       "    <tr style=\"text-align: right;\">\n",
       "      <th></th>\n",
       "      <th>Title</th>\n",
       "      <th>Review</th>\n",
       "      <th>Date</th>\n",
       "      <th>Rating</th>\n",
       "    </tr>\n",
       "  </thead>\n",
       "  <tbody>\n",
       "    <tr>\n",
       "      <th>873</th>\n",
       "      <td>Most faithful and high quality adaptation sinc...</td>\n",
       "      <td>I haven't written a review in a very long time...</td>\n",
       "      <td>2 September 2023</td>\n",
       "      <td>10.0</td>\n",
       "    </tr>\n",
       "    <tr>\n",
       "      <th>874</th>\n",
       "      <td>Me and my son loving it! The best entertaining...</td>\n",
       "      <td>This is my first IMDb review.\\n\\nI've watched ...</td>\n",
       "      <td>1 September 2023</td>\n",
       "      <td>9.0</td>\n",
       "    </tr>\n",
       "    <tr>\n",
       "      <th>875</th>\n",
       "      <td>A very good adaptation to the famous anime</td>\n",
       "      <td>An absolute gem! This show is a must-watch, an...</td>\n",
       "      <td>3 September 2023</td>\n",
       "      <td>10.0</td>\n",
       "    </tr>\n",
       "    <tr>\n",
       "      <th>876</th>\n",
       "      <td>This wonderful thing...</td>\n",
       "      <td>I recently dived (no pun intended) into the wo...</td>\n",
       "      <td>2 September 2023</td>\n",
       "      <td>10.0</td>\n",
       "    </tr>\n",
       "    <tr>\n",
       "      <th>877</th>\n",
       "      <td>Best adaptation so far</td>\n",
       "      <td>I watched first eposide and I can say they did...</td>\n",
       "      <td>1 September 2023</td>\n",
       "      <td>9.0</td>\n",
       "    </tr>\n",
       "  </tbody>\n",
       "</table>\n",
       "</div>"
      ],
      "text/plain": [
       "                                                 Title  \\\n",
       "873  Most faithful and high quality adaptation sinc...   \n",
       "874  Me and my son loving it! The best entertaining...   \n",
       "875         A very good adaptation to the famous anime   \n",
       "876                            This wonderful thing...   \n",
       "877                             Best adaptation so far   \n",
       "\n",
       "                                                Review              Date  \\\n",
       "873  I haven't written a review in a very long time...  2 September 2023   \n",
       "874  This is my first IMDb review.\\n\\nI've watched ...  1 September 2023   \n",
       "875  An absolute gem! This show is a must-watch, an...  3 September 2023   \n",
       "876  I recently dived (no pun intended) into the wo...  2 September 2023   \n",
       "877  I watched first eposide and I can say they did...  1 September 2023   \n",
       "\n",
       "     Rating  \n",
       "873    10.0  \n",
       "874     9.0  \n",
       "875    10.0  \n",
       "876    10.0  \n",
       "877     9.0  "
      ]
     },
     "metadata": {},
     "output_type": "display_data"
    }
   ],
   "source": [
    "display(df.tail())"
   ]
  },
  {
   "cell_type": "code",
   "execution_count": 6,
   "id": "40443ebd-8ba3-4d7f-aa16-d3dad2028bf7",
   "metadata": {},
   "outputs": [
    {
     "name": "stdout",
     "output_type": "stream",
     "text": [
      "<class 'pandas.core.frame.DataFrame'>\n",
      "RangeIndex: 878 entries, 0 to 877\n",
      "Data columns (total 4 columns):\n",
      " #   Column  Non-Null Count  Dtype  \n",
      "---  ------  --------------  -----  \n",
      " 0   Title   878 non-null    object \n",
      " 1   Review  878 non-null    object \n",
      " 2   Date    878 non-null    object \n",
      " 3   Rating  870 non-null    float64\n",
      "dtypes: float64(1), object(3)\n",
      "memory usage: 27.6+ KB\n",
      "None\n"
     ]
    }
   ],
   "source": [
    "print(df.info())"
   ]
  },
  {
   "cell_type": "code",
   "execution_count": 7,
   "id": "55105caa-7b3e-4266-b0d6-b353efb602fc",
   "metadata": {},
   "outputs": [
    {
     "name": "stdout",
     "output_type": "stream",
     "text": [
      "           Rating\n",
      "count  870.000000\n",
      "mean     8.517241\n",
      "std      2.268826\n",
      "min      1.000000\n",
      "25%      8.000000\n",
      "50%      9.000000\n",
      "75%     10.000000\n",
      "max     10.000000\n"
     ]
    }
   ],
   "source": [
    "print(df.describe())"
   ]
  },
  {
   "cell_type": "markdown",
   "id": "73927de6-bf70-4309-aae8-afde3ab3d1ac",
   "metadata": {},
   "source": [
    "### Paso 3. Identifique los datos nulos: muestre las filas que contienen datos nulos (no se deben tratar aún)."
   ]
  },
  {
   "cell_type": "code",
   "execution_count": 8,
   "id": "b1e56fca-b74b-4385-88af-eb5fa0bab351",
   "metadata": {},
   "outputs": [
    {
     "data": {
      "text/html": [
       "<div>\n",
       "<style scoped>\n",
       "    .dataframe tbody tr th:only-of-type {\n",
       "        vertical-align: middle;\n",
       "    }\n",
       "\n",
       "    .dataframe tbody tr th {\n",
       "        vertical-align: top;\n",
       "    }\n",
       "\n",
       "    .dataframe thead th {\n",
       "        text-align: right;\n",
       "    }\n",
       "</style>\n",
       "<table border=\"1\" class=\"dataframe\">\n",
       "  <thead>\n",
       "    <tr style=\"text-align: right;\">\n",
       "      <th></th>\n",
       "      <th>Title</th>\n",
       "      <th>Review</th>\n",
       "      <th>Date</th>\n",
       "      <th>Rating</th>\n",
       "    </tr>\n",
       "  </thead>\n",
       "  <tbody>\n",
       "    <tr>\n",
       "      <th>143</th>\n",
       "      <td>I didn't expect much, but I absolutely love it.</td>\n",
       "      <td>I admit, when I write reviews it's usually whe...</td>\n",
       "      <td>25 September 2023</td>\n",
       "      <td>NaN</td>\n",
       "    </tr>\n",
       "    <tr>\n",
       "      <th>145</th>\n",
       "      <td>Thank you for heading this, Oda!</td>\n",
       "      <td>Fun fact: Eiichiro Oda, the creator of the man...</td>\n",
       "      <td>12 September 2023</td>\n",
       "      <td>NaN</td>\n",
       "    </tr>\n",
       "    <tr>\n",
       "      <th>447</th>\n",
       "      <td>DIFFERENT MEDIA MEANS DIFFERENT STORYTELLING A...</td>\n",
       "      <td>Just because there are many scenes in the mang...</td>\n",
       "      <td>1 September 2023</td>\n",
       "      <td>NaN</td>\n",
       "    </tr>\n",
       "    <tr>\n",
       "      <th>500</th>\n",
       "      <td>I'm not sure about rating yet!</td>\n",
       "      <td>I like the characters so far except Sanji's ha...</td>\n",
       "      <td>4 September 2023</td>\n",
       "      <td>NaN</td>\n",
       "    </tr>\n",
       "    <tr>\n",
       "      <th>520</th>\n",
       "      <td>Great adaptation!</td>\n",
       "      <td>One Piece somehow managed to pull it off: a le...</td>\n",
       "      <td>8 September 2023</td>\n",
       "      <td>NaN</td>\n",
       "    </tr>\n",
       "    <tr>\n",
       "      <th>540</th>\n",
       "      <td>My disappointment is immeasurable</td>\n",
       "      <td>As a life long fan of One Piece I don't know w...</td>\n",
       "      <td>31 August 2023</td>\n",
       "      <td>NaN</td>\n",
       "    </tr>\n",
       "    <tr>\n",
       "      <th>569</th>\n",
       "      <td>A must watch</td>\n",
       "      <td>If you browse there are series with more actio...</td>\n",
       "      <td>2 September 2023</td>\n",
       "      <td>NaN</td>\n",
       "    </tr>\n",
       "    <tr>\n",
       "      <th>782</th>\n",
       "      <td>Emily Rudd's hair as Nami</td>\n",
       "      <td>Everything went so right with casting and thei...</td>\n",
       "      <td>1 September 2023</td>\n",
       "      <td>NaN</td>\n",
       "    </tr>\n",
       "  </tbody>\n",
       "</table>\n",
       "</div>"
      ],
      "text/plain": [
       "                                                 Title  \\\n",
       "143    I didn't expect much, but I absolutely love it.   \n",
       "145                   Thank you for heading this, Oda!   \n",
       "447  DIFFERENT MEDIA MEANS DIFFERENT STORYTELLING A...   \n",
       "500                     I'm not sure about rating yet!   \n",
       "520                                  Great adaptation!   \n",
       "540                  My disappointment is immeasurable   \n",
       "569                                       A must watch   \n",
       "782                          Emily Rudd's hair as Nami   \n",
       "\n",
       "                                                Review               Date  \\\n",
       "143  I admit, when I write reviews it's usually whe...  25 September 2023   \n",
       "145  Fun fact: Eiichiro Oda, the creator of the man...  12 September 2023   \n",
       "447  Just because there are many scenes in the mang...   1 September 2023   \n",
       "500  I like the characters so far except Sanji's ha...   4 September 2023   \n",
       "520  One Piece somehow managed to pull it off: a le...   8 September 2023   \n",
       "540  As a life long fan of One Piece I don't know w...     31 August 2023   \n",
       "569  If you browse there are series with more actio...   2 September 2023   \n",
       "782  Everything went so right with casting and thei...   1 September 2023   \n",
       "\n",
       "     Rating  \n",
       "143     NaN  \n",
       "145     NaN  \n",
       "447     NaN  \n",
       "500     NaN  \n",
       "520     NaN  \n",
       "540     NaN  \n",
       "569     NaN  \n",
       "782     NaN  "
      ]
     },
     "metadata": {},
     "output_type": "display_data"
    }
   ],
   "source": [
    "display(df[df.isnull().any(axis=1)])"
   ]
  },
  {
   "cell_type": "markdown",
   "id": "606d17ce-10c2-4ea8-b9ab-70f0f36938bf",
   "metadata": {},
   "source": [
    "### Paso 4. Muestre la distribución de la columna \"Rating\", haga un análisis de la distribución."
   ]
  },
  {
   "cell_type": "code",
   "execution_count": 9,
   "id": "08fac99b-786f-4c9e-aa2b-7de8fb7b46a9",
   "metadata": {},
   "outputs": [
    {
     "name": "stderr",
     "output_type": "stream",
     "text": [
      "C:\\Users\\axelv\\anaconda3\\envs\\tensorflow_env\\lib\\site-packages\\seaborn\\_oldcore.py:1498: FutureWarning: is_categorical_dtype is deprecated and will be removed in a future version. Use isinstance(dtype, CategoricalDtype) instead\n",
      "  if pd.api.types.is_categorical_dtype(vector):\n",
      "C:\\Users\\axelv\\anaconda3\\envs\\tensorflow_env\\lib\\site-packages\\seaborn\\_oldcore.py:1119: FutureWarning: use_inf_as_na option is deprecated and will be removed in a future version. Convert inf values to NaN before operating instead.\n",
      "  with pd.option_context('mode.use_inf_as_na', True):\n"
     ]
    },
    {
     "data": {
      "image/png": "[encoded data removed]",
      "text/plain": [
       "<Figure size 640x480 with 1 Axes>"
      ]
     },
     "metadata": {},
     "output_type": "display_data"
    }
   ],
   "source": [
    "sns.histplot(data=df, x='Rating', kde=True)\n",
    "\n",
    "plt.title('Distribución de la columna \"Rating\"')\n",
    "plt.xlabel('Rating')\n",
    "plt.ylabel('Frecuencia')\n",
    "\n",
    "plt.show()"
   ]
  },
  {
   "cell_type": "markdown",
   "id": "3d3fa8bf-41ff-47e7-a253-5f2a668a2da5",
   "metadata": {},
   "source": [
    "<p style=\"color:blue;\">\n",
    "En general, las calificaciones de los usuarios son muy positivas hacia la serie y las calificaciones más comunes son las que están entre 8 y 10, siendo la de 10 la más común.\n",
    "</p>"
   ]
  },
  {
   "cell_type": "markdown",
   "id": "fea7a9ac-f92a-4d23-8448-4dba6d4ef8b0",
   "metadata": {},
   "source": [
    "### Paso 5. Identifique si alguna de las columnas se puede convertir en categórica."
   ]
  },
  {
   "cell_type": "code",
   "execution_count": 10,
   "id": "3cee39ad-d87a-412e-84be-4c678359c082",
   "metadata": {},
   "outputs": [
    {
     "name": "stdout",
     "output_type": "stream",
     "text": [
      "La columna \"Title\" tiene 878 valores únicos, lo que dificulta su categorización.\n",
      "La columna \"Review\" tiene 878 valores únicos, lo que dificulta su categorización.\n",
      "La columna \"Date\" tiene 40 valores únicos, lo que dificulta su categorización.\n",
      "La columna \"Rating\" tiene 10 valores únicos y podría ser categórica.\n"
     ]
    }
   ],
   "source": [
    "for columna in df.columns:\n",
    "    num_valores_unicos = df[columna].nunique()\n",
    "    if num_valores_unicos <= 10:\n",
    "        print(f'La columna \"{columna}\" tiene {num_valores_unicos} valores únicos y podría ser categórica.')\n",
    "    else:\n",
    "        print(f'La columna \"{columna}\" tiene {num_valores_unicos} valores únicos, lo que dificulta su categorización.')"
   ]
  },
  {
   "cell_type": "markdown",
   "id": "aa1583a5-6899-42a2-9744-7a21c5e6b204",
   "metadata": {},
   "source": [
    "<p style=\"color:blue;\">\n",
    "La columna \"Rating\" podría convertirse en categórica.\n",
    "</p>"
   ]
  },
  {
   "cell_type": "markdown",
   "id": "4a77da18-e9c7-4f96-beea-f8af4e03493f",
   "metadata": {},
   "source": [
    "## ETAPA 2: ANÁLISIS DE SENTIMIENTOS."
   ]
  },
  {
   "cell_type": "code",
   "execution_count": 11,
   "id": "013fc1c7-bc2b-4d87-9cd9-7e5fbbe4273c",
   "metadata": {},
   "outputs": [],
   "source": [
    "pd.set_option('display.max_colwidth', None)"
   ]
  },
  {
   "cell_type": "markdown",
   "id": "1d447b0e-3cea-42cd-9134-8b840ef00fa2",
   "metadata": {},
   "source": [
    "### Paso 1. Muestre las primeras 10 filas del dataset con las columnas \"Rating\" y \"Review\", haga un análisis rápido de esa información."
   ]
  },
  {
   "cell_type": "code",
   "execution_count": 12,
   "id": "adaa7b66-22c7-4a53-b4d6-3ed71a2cfa46",
   "metadata": {},
   "outputs": [
    {
     "data": {
      "text/html": [
       "<div>\n",
       "<style scoped>\n",
       "    .dataframe tbody tr th:only-of-type {\n",
       "        vertical-align: middle;\n",
       "    }\n",
       "\n",
       "    .dataframe tbody tr th {\n",
       "        vertical-align: top;\n",
       "    }\n",
       "\n",
       "    .dataframe thead th {\n",
       "        text-align: right;\n",
       "    }\n",
       "</style>\n",
       "<table border=\"1\" class=\"dataframe\">\n",
       "  <thead>\n",
       "    <tr style=\"text-align: right;\">\n",
       "      <th></th>\n",
       "      <th>Rating</th>\n",
       "      <th>Review</th>\n",
       "    </tr>\n",
       "  </thead>\n",
       "  <tbody>\n",
       "    <tr>\n",
       "      <th>0</th>\n",
       "      <td>8.0</td>\n",
       "      <td>I have to admit that I've never watched any of the animated show One Piece or even heard about it for that matter. I'm really not a big fan of anime. Then after watching the trailers for this I thought it looked like a show for children. I was wrong. I kept reading about how good this show is and how it's #1 on Netflix so I thought I'd give it a chance. I'm glad I did because I couldn't have been more wrong. This is a show where people of all ages can enjoy. If you can just turn off your brain and watch I promise you'll have a good time. If you're looking for a new show to binge then give One Piece a try. You won't be disappointed!</td>\n",
       "    </tr>\n",
       "    <tr>\n",
       "      <th>1</th>\n",
       "      <td>9.0</td>\n",
       "      <td>I'm a 60yo man &amp; old school like the The Marine Admiral 😄. I've never heard of One Piece anime, in fact I'm not into anime at all. But this, this was a complete experience, it is bloody addictive.\\n\\nThe main characters optimism &amp; acceptance of others pursuing their dreams regardless of whether or not he agrees with them or indeed they're the dreams of his enemies is a thing of beauty. The kids attitude to his fellow man is admirable &amp; his attitude toward pursuing his own life should serve as a lesson to us all.\\n\\nThe other characters come together nicely too, each different but each with unique problems &amp; gifts - they gel nicely.\\n\\nI can't put my finger on why I loved this show, I just did. It's quirky, it's violent, it's gentle, it's about battles, friendships, dreams, courage, fear &amp; loyalty, &amp; all of it done meaningfully.\\n\\nIt's also beautiful to look at.\\n\\nI hope there is a season 2. It deserves to continue.\\n\\nBravo 👏</td>\n",
       "    </tr>\n",
       "    <tr>\n",
       "      <th>2</th>\n",
       "      <td>9.0</td>\n",
       "      <td>Every live action anime that I've briefly seen has been nothing short of a disaster, and considering how many times Netflix tried to bring Anime's to life I thought One Piece was about to receive the same fate. But to my surprise I was wrong.\\n\\nJust 3 episodes in you could tell the care the creators put into this show. The set designs, the action sequences, and even to my surprise the actors bring so much.\\n\\nIñaki Godoy as Luffy is to my surprise holding his own in this role. Luffy is such a love or hate character and imagining a live action for him seems like a recipe for disaster. But Godoy somehow is able to maintain the goofiness within the character without making him unbearable, and that deserves some applause. I think Emily Rudd, Mackenyu, Morgan Davies, and Jacob Romero are great as well.\\n\\nAnd as someone who's only watched the first 10-15 episodes of One Piece, I love the route they went with Buggy in episode 2 compared to the beginning of the Anime/Manga. Jeff Ward made him extremely terrifying in the show and the way they used the crowd as prisoners, forcing them to clap was slightly terrifying.\\n\\nI wasn't even sure if they'd do the iconic Shanks moment early on for budget reasons, but they did it and it was actually great. Not to say everything is perfect because at times the show can get a little too cartoony for me, but my low expectations were blown away. I'm glad to see the awful live action anime stereotype take a hit and potentially make room for other people who aspire to bring an anime to life, and even with a very small chance, potentially do it justice like we saw here.\\n\\nIt's only season 1 and there is plenty of room for error, but I'm glad to say I've been proven wrong and I actually have hope for this adaptation.</td>\n",
       "    </tr>\n",
       "    <tr>\n",
       "      <th>3</th>\n",
       "      <td>10.0</td>\n",
       "      <td>This is bar none one of the best live-action adaptions to any animated source material I have ever seen. I have been a diehard One Piece fan since I was a preteen; it was one of the first manga I ever read and I still watch it to this day. Admittedly, when I first saw a remake was in the works and saw the promos for it, I could feel myself almost instinctively getting nauseous. I saw the characters and bauked at the mere aesthetics of the show, let alone the other details. My heart sank into a pit as I pleaded pitifully in my head, \"Please, PLEASE don't touch this one. I still haven't recovered from the massacring of Avatar TLA, Dragonball Evolution (I know those weren't Netflix, but still), Death Note, AND FullMetal Alchemist, please don't destroy something else from my childhood just for the sake of playing pretend and trying to get subscriptions .\"\\n\\nBut lo and behold, I watched the trailer for it and every previously described feeling of dread in me was evaporated by a sudden rush of euphoria and excitement. I had goosebumps on my goosebumps and my heart was in my throat. I immediately resubscribed to Netflix and began watching and MY-GOSH, guys.\\n\\nI will restate that this is the best adaption of any source material I've ever seen. I will warn you the more \"human\" looking rendition of the characters takes some getting used to, but my gosh, it's all there - the humor, the action, the heart, and barely a single editorial or filmographic choice is wasted. You're not going to find a cut-by-cut (no pun intended, Zoro) rendition of the original story, but that actually works here and keeps things moving and working in a cohesive way.\\n\\nFor first time fans or devoted veterans like me, you could not ask for a better introduction to an anime series in this medium. Please give it a chance.</td>\n",
       "    </tr>\n",
       "    <tr>\n",
       "      <th>4</th>\n",
       "      <td>10.0</td>\n",
       "      <td>Being a one piece fan myself, I was a bit insecured about starting the series but boy do I never got off my bed through all these 8 episodes. The Live Adaptation is way beyond my expectations and I seriously cried and laughed along every emotional and comforting moment. NETFLIX PLEASE RELEASE SEASON 2. The portrayal of Monkey D Luffy was perfect as well as other characters. Every Episode had its own main character and the introduction to each and every straw pirate crew was done with utmost respect and love 💕. Can't wait for more pirate crew members to be introduced in the later seasons especially Nico Robin.</td>\n",
       "    </tr>\n",
       "    <tr>\n",
       "      <th>5</th>\n",
       "      <td>10.0</td>\n",
       "      <td>GREAT ADAPTATION! As an old-school fan (since 2006) I can say that this was made with love for old fans and new fans! Welcome to the grand line! Next stop! The new world! I want season 2, 3, 4, 5! Etc Make it happen Netflix! You should be working on Chopper, looking for Robin, Ace, and Vivi... The cast is great, and the locations and CGI are on point! The small changes are OK, and it does not feel like forced. The chemistry is natural, and the scripts are well made.... as Oda-san said \"This is good and can be better\", I will watch this several times and with the different dubs! ENJOY NAKAMAS!!</td>\n",
       "    </tr>\n",
       "    <tr>\n",
       "      <th>6</th>\n",
       "      <td>9.0</td>\n",
       "      <td>My kids play and watch One Piece anime and love it! I wasn't terribly interested, but decided to give it a go. I'm glad I did! I enjoyed most of the Witcher (played the games as well), but in all honesty, this show is just more entertaining (yes, i realize a different genre but i was thrilled for the witcher series). The characters, especially Buggy (the clown), are well acted, fights scenes different and action-packed, and the cgi is rather good...that sea dragon should be in GoT or House of the Dragon! Now i have a fun show where i can kickback and relax, discuss the show with my kids, and now i'm a slightly intrigued about the game/anime. Thanks netflix, season 2 please!</td>\n",
       "    </tr>\n",
       "    <tr>\n",
       "      <th>7</th>\n",
       "      <td>10.0</td>\n",
       "      <td>I was so surprised that Netflix made something that was incredible. I am a new fan of One Piece anime and I had only seem as few of the episodes when I heard that Netflix was releasing a live action of One Piece.\\n\\nAs I watched the first few episodes I could see that they had stuck closely to the source material. I got more and more excited with each episode.\\n\\nEverything is awesome! All the actors are incredible. Each one embodies his or her character as if it was written for them. I especially love Iñaki Godoy, the actor who plays Monkey D. Luffy self proclaimed \"King of the Pirates\". He is an amazing actor.\\n\\nThe story is about friendship and protecting your friends and their dreams even if you don't agree.\\n\\nThere has never been a pirate series or film that is better than One Piece. I will be rewatching it often.</td>\n",
       "    </tr>\n",
       "    <tr>\n",
       "      <th>8</th>\n",
       "      <td>8.0</td>\n",
       "      <td>Parenthetically I don't know anything about the source material in particular or anime in general.\\n\\nThe series is compulsively watchable for several reasons.\\n\\nThe first is the world-building. The setting is fantastical but the show makes it effortlessly understandable and relatable.\\n\\nThe second is the characters. The characters here are mostly tropes but they're so likeable and well-realized by the performers that you can't help getting invested in them.\\n\\nThe third is the sense of light-hearted positivity that pervades the series. It touches on some pretty dark issues but the show and its irrepressibly-optimistic protagonist always have a positive outlook. People's faith in one another is actually rewarded rather than being mocked or denigrated. Image that in 2023.</td>\n",
       "    </tr>\n",
       "    <tr>\n",
       "      <th>9</th>\n",
       "      <td>10.0</td>\n",
       "      <td>Initially I was apprehensive because of anime adaptation productions for live action. I've been watching and reading onepiece for 20 years and this series so represents the spirit of this work that I love so much. I was very happy with the result!\\n\\nAnd I have to say , Honestly, the best live action anime adaptation I've ever seen. This is coming from someone who loves One Piece. So, I was looking for reasons to criticise it, and there are some flaws.. but there were also things this series improved on the original. Overall, I you all should watch it , totally recommend it. Its a great! Lets go season 2!!!!</td>\n",
       "    </tr>\n",
       "  </tbody>\n",
       "</table>\n",
       "</div>"
      ],
      "text/plain": [
       "   Rating  \\\n",
       "0     8.0   \n",
       "1     9.0   \n",
       "2     9.0   \n",
       "3    10.0   \n",
       "4    10.0   \n",
       "5    10.0   \n",
       "6     9.0   \n",
       "7    10.0   \n",
       "8     8.0   \n",
       "9    10.0   \n",
       "\n",
       "                                                                                                                                                                                                                                                                                                                                                                                                                                                                                                                                                                                                                                                                                                                                                                                                                                                                                                                                                                                                                                                                                                                                                                                                                                                                                                                                                                                                                                                                                                                                                                                                                                                                                                                                                                                                                                                                                      Review  \n",
       "0                                                                                                                                                                                                                                                                                                                                                                                                                                                                                                                                                                                                                                                                                                                                                                                                                                                                                                                                                                                                                                                                                                                                                                                                                            I have to admit that I've never watched any of the animated show One Piece or even heard about it for that matter. I'm really not a big fan of anime. Then after watching the trailers for this I thought it looked like a show for children. I was wrong. I kept reading about how good this show is and how it's #1 on Netflix so I thought I'd give it a chance. I'm glad I did because I couldn't have been more wrong. This is a show where people of all ages can enjoy. If you can just turn off your brain and watch I promise you'll have a good time. If you're looking for a new show to binge then give One Piece a try. You won't be disappointed!  \n",
       "1                                                                                                                                                                                                                                                                                                                                                                                                                                                                                                                                                                                                                                                                                                                                                                                                                                                                                                              I'm a 60yo man & old school like the The Marine Admiral 😄. I've never heard of One Piece anime, in fact I'm not into anime at all. But this, this was a complete experience, it is bloody addictive.\\n\\nThe main characters optimism & acceptance of others pursuing their dreams regardless of whether or not he agrees with them or indeed they're the dreams of his enemies is a thing of beauty. The kids attitude to his fellow man is admirable & his attitude toward pursuing his own life should serve as a lesson to us all.\\n\\nThe other characters come together nicely too, each different but each with unique problems & gifts - they gel nicely.\\n\\nI can't put my finger on why I loved this show, I just did. It's quirky, it's violent, it's gentle, it's about battles, friendships, dreams, courage, fear & loyalty, & all of it done meaningfully.\\n\\nIt's also beautiful to look at.\\n\\nI hope there is a season 2. It deserves to continue.\\n\\nBravo 👏  \n",
       "2                                               Every live action anime that I've briefly seen has been nothing short of a disaster, and considering how many times Netflix tried to bring Anime's to life I thought One Piece was about to receive the same fate. But to my surprise I was wrong.\\n\\nJust 3 episodes in you could tell the care the creators put into this show. The set designs, the action sequences, and even to my surprise the actors bring so much.\\n\\nIñaki Godoy as Luffy is to my surprise holding his own in this role. Luffy is such a love or hate character and imagining a live action for him seems like a recipe for disaster. But Godoy somehow is able to maintain the goofiness within the character without making him unbearable, and that deserves some applause. I think Emily Rudd, Mackenyu, Morgan Davies, and Jacob Romero are great as well.\\n\\nAnd as someone who's only watched the first 10-15 episodes of One Piece, I love the route they went with Buggy in episode 2 compared to the beginning of the Anime/Manga. Jeff Ward made him extremely terrifying in the show and the way they used the crowd as prisoners, forcing them to clap was slightly terrifying.\\n\\nI wasn't even sure if they'd do the iconic Shanks moment early on for budget reasons, but they did it and it was actually great. Not to say everything is perfect because at times the show can get a little too cartoony for me, but my low expectations were blown away. I'm glad to see the awful live action anime stereotype take a hit and potentially make room for other people who aspire to bring an anime to life, and even with a very small chance, potentially do it justice like we saw here.\\n\\nIt's only season 1 and there is plenty of room for error, but I'm glad to say I've been proven wrong and I actually have hope for this adaptation.  \n",
       "3  This is bar none one of the best live-action adaptions to any animated source material I have ever seen. I have been a diehard One Piece fan since I was a preteen; it was one of the first manga I ever read and I still watch it to this day. Admittedly, when I first saw a remake was in the works and saw the promos for it, I could feel myself almost instinctively getting nauseous. I saw the characters and bauked at the mere aesthetics of the show, let alone the other details. My heart sank into a pit as I pleaded pitifully in my head, \"Please, PLEASE don't touch this one. I still haven't recovered from the massacring of Avatar TLA, Dragonball Evolution (I know those weren't Netflix, but still), Death Note, AND FullMetal Alchemist, please don't destroy something else from my childhood just for the sake of playing pretend and trying to get subscriptions .\"\\n\\nBut lo and behold, I watched the trailer for it and every previously described feeling of dread in me was evaporated by a sudden rush of euphoria and excitement. I had goosebumps on my goosebumps and my heart was in my throat. I immediately resubscribed to Netflix and began watching and MY-GOSH, guys.\\n\\nI will restate that this is the best adaption of any source material I've ever seen. I will warn you the more \"human\" looking rendition of the characters takes some getting used to, but my gosh, it's all there - the humor, the action, the heart, and barely a single editorial or filmographic choice is wasted. You're not going to find a cut-by-cut (no pun intended, Zoro) rendition of the original story, but that actually works here and keeps things moving and working in a cohesive way.\\n\\nFor first time fans or devoted veterans like me, you could not ask for a better introduction to an anime series in this medium. Please give it a chance.  \n",
       "4                                                                                                                                                                                                                                                                                                                                                                                                                                                                                                                                                                                                                                                                                                                                                                                                                                                                                                                                                                                                                                                                                                                                                                                                                                                   Being a one piece fan myself, I was a bit insecured about starting the series but boy do I never got off my bed through all these 8 episodes. The Live Adaptation is way beyond my expectations and I seriously cried and laughed along every emotional and comforting moment. NETFLIX PLEASE RELEASE SEASON 2. The portrayal of Monkey D Luffy was perfect as well as other characters. Every Episode had its own main character and the introduction to each and every straw pirate crew was done with utmost respect and love 💕. Can't wait for more pirate crew members to be introduced in the later seasons especially Nico Robin.  \n",
       "5                                                                                                                                                                                                                                                                                                                                                                                                                                                                                                                                                                                                                                                                                                                                                                                                                                                                                                                                                                                                                                                                                                                                                                                                                                                                   GREAT ADAPTATION! As an old-school fan (since 2006) I can say that this was made with love for old fans and new fans! Welcome to the grand line! Next stop! The new world! I want season 2, 3, 4, 5! Etc Make it happen Netflix! You should be working on Chopper, looking for Robin, Ace, and Vivi... The cast is great, and the locations and CGI are on point! The small changes are OK, and it does not feel like forced. The chemistry is natural, and the scripts are well made.... as Oda-san said \"This is good and can be better\", I will watch this several times and with the different dubs! ENJOY NAKAMAS!!  \n",
       "6                                                                                                                                                                                                                                                                                                                                                                                                                                                                                                                                                                                                                                                                                                                                                                                                                                                                                                                                                                                                                                                                                                                                                                                 My kids play and watch One Piece anime and love it! I wasn't terribly interested, but decided to give it a go. I'm glad I did! I enjoyed most of the Witcher (played the games as well), but in all honesty, this show is just more entertaining (yes, i realize a different genre but i was thrilled for the witcher series). The characters, especially Buggy (the clown), are well acted, fights scenes different and action-packed, and the cgi is rather good...that sea dragon should be in GoT or House of the Dragon! Now i have a fun show where i can kickback and relax, discuss the show with my kids, and now i'm a slightly intrigued about the game/anime. Thanks netflix, season 2 please!  \n",
       "7                                                                                                                                                                                                                                                                                                                                                                                                                                                                                                                                                                                                                                                                                                                                                                                                                                                                                                                                                                                                                           I was so surprised that Netflix made something that was incredible. I am a new fan of One Piece anime and I had only seem as few of the episodes when I heard that Netflix was releasing a live action of One Piece.\\n\\nAs I watched the first few episodes I could see that they had stuck closely to the source material. I got more and more excited with each episode.\\n\\nEverything is awesome! All the actors are incredible. Each one embodies his or her character as if it was written for them. I especially love Iñaki Godoy, the actor who plays Monkey D. Luffy self proclaimed \"King of the Pirates\". He is an amazing actor.\\n\\nThe story is about friendship and protecting your friends and their dreams even if you don't agree.\\n\\nThere has never been a pirate series or film that is better than One Piece. I will be rewatching it often.  \n",
       "8                                                                                                                                                                                                                                                                                                                                                                                                                                                                                                                                                                                                                                                                                                                                                                                                                                                                                                                                                                                                                                                                            Parenthetically I don't know anything about the source material in particular or anime in general.\\n\\nThe series is compulsively watchable for several reasons.\\n\\nThe first is the world-building. The setting is fantastical but the show makes it effortlessly understandable and relatable.\\n\\nThe second is the characters. The characters here are mostly tropes but they're so likeable and well-realized by the performers that you can't help getting invested in them.\\n\\nThe third is the sense of light-hearted positivity that pervades the series. It touches on some pretty dark issues but the show and its irrepressibly-optimistic protagonist always have a positive outlook. People's faith in one another is actually rewarded rather than being mocked or denigrated. Image that in 2023.  \n",
       "9                                                                                                                                                                                                                                                                                                                                                                                                                                                                                                                                                                                                                                                                                                                                                                                                                                                                                                                                                                                                                                                                                                                                                                                                                                                    Initially I was apprehensive because of anime adaptation productions for live action. I've been watching and reading onepiece for 20 years and this series so represents the spirit of this work that I love so much. I was very happy with the result!\\n\\nAnd I have to say , Honestly, the best live action anime adaptation I've ever seen. This is coming from someone who loves One Piece. So, I was looking for reasons to criticise it, and there are some flaws.. but there were also things this series improved on the original. Overall, I you all should watch it , totally recommend it. Its a great! Lets go season 2!!!!  "
      ]
     },
     "metadata": {},
     "output_type": "display_data"
    }
   ],
   "source": [
    "display(df[['Rating', 'Review']].head(10))"
   ]
  },
  {
   "cell_type": "markdown",
   "id": "c1018a84-2310-49ce-9cbf-261474b277cd",
   "metadata": {},
   "source": [
    "<p style=\"color:blue;\">\n",
    "Las primeras 10 filas tienen una calificación muy positiva de la serie. Y los comentarios tienen un poco de todo.e.\n",
    "</p>"
   ]
  },
  {
   "cell_type": "markdown",
   "id": "320fde52-43e5-472f-b3c2-fd6b05143950",
   "metadata": {},
   "source": [
    "<p style=\"color:blue;\">\n",
    "Los que en su Review declaran no ser muy conocedores del material de origen suelen ser los que ponen calificaciones entre 8 y 9, mientras que los fanáticos dan como calificación un 10. En general, todas las reseñas mencionan que han disfrutado de la serie.\n",
    "</p>"
   ]
  },
  {
   "cell_type": "markdown",
   "id": "670f1b02-f95f-41a7-8c4a-0e7d75c5a50b",
   "metadata": {},
   "source": [
    "### Paso 2. Haga una función que se encargue del pre-procesamiento:"
   ]
  },
  {
   "cell_type": "code",
   "execution_count": 13,
   "id": "988f0942-4937-4538-a01c-78747db7ac21",
   "metadata": {},
   "outputs": [],
   "source": [
    "from nltk.corpus import stopwords\n",
    "from nltk.tokenize import word_tokenize\n",
    "from nltk.stem import WordNetLemmatizer"
   ]
  },
  {
   "cell_type": "markdown",
   "id": "7f7a4a35-1a4e-4d1a-a74a-cd544e376e33",
   "metadata": {},
   "source": [
    "#### - Genere los tokens."
   ]
  },
  {
   "cell_type": "markdown",
   "id": "a2a9fd50-961e-4009-9f4a-d918922de70a",
   "metadata": {},
   "source": [
    "#### - Filtre las palabras de parada."
   ]
  },
  {
   "cell_type": "markdown",
   "id": "d1c1d7df-d367-44ec-8bfd-ba415152a0cb",
   "metadata": {},
   "source": [
    "#### - Obtenga el lema de las palabras y guárdelo en una lista."
   ]
  },
  {
   "cell_type": "markdown",
   "id": "ebca72b2-6c5e-4bca-a938-996ec3bbd2ca",
   "metadata": {},
   "source": [
    "#### - Retorne la lista en forma de una cadena, para ello debe unir los elementos de la lista mediante un espacio."
   ]
  },
  {
   "cell_type": "code",
   "execution_count": 14,
   "id": "0e13d959-b9a1-4380-983b-88aaed23387a",
   "metadata": {},
   "outputs": [],
   "source": [
    "# Definimos la función de pre-procesamiento\n",
    "def pre_procesamiento(texto):\n",
    "    # Generación de tokens\n",
    "    tokens = word_tokenize(texto.lower())\n",
    "\n",
    "    # Filtramos las palabras de parada\n",
    "    tokens_filtrados = [token for token in tokens if token not in stopwords.words('english')]\n",
    "\n",
    "    # Obtenemos el lema de las palabras\n",
    "    lemmatizer = WordNetLemmatizer()\n",
    "    lemas = [lemmatizer.lemmatize(token) for token in tokens_filtrados]\n",
    "\n",
    "    # Retornamos la lista en forma de una cadena\n",
    "    return ' '.join(lemas)"
   ]
  },
  {
   "cell_type": "markdown",
   "id": "62f002a9-d476-4fa9-ad53-58cfefdd2530",
   "metadata": {},
   "source": [
    "### Paso 3. Aplique la función creada para obtener el lema de las columnas \"Review\" y \"Title\", guárde el resultado en nuevas columnas dentro del dataframe original (por ejemplo: \"ReviewText\", \"TitleText\")."
   ]
  },
  {
   "cell_type": "code",
   "execution_count": 15,
   "id": "b4817ebe-9fed-46af-a33a-8ac4a62be9ea",
   "metadata": {},
   "outputs": [],
   "source": [
    "df['ReviewText'] = df['Review'].apply(pre_procesamiento)\n",
    "df['TitleText'] = df['Title'].apply(pre_procesamiento)"
   ]
  },
  {
   "cell_type": "code",
   "execution_count": 16,
   "id": "b4ba0b2c-a755-4f95-aa2e-363dcaf22cc9",
   "metadata": {},
   "outputs": [
    {
     "data": {
      "text/html": [
       "<div>\n",
       "<style scoped>\n",
       "    .dataframe tbody tr th:only-of-type {\n",
       "        vertical-align: middle;\n",
       "    }\n",
       "\n",
       "    .dataframe tbody tr th {\n",
       "        vertical-align: top;\n",
       "    }\n",
       "\n",
       "    .dataframe thead th {\n",
       "        text-align: right;\n",
       "    }\n",
       "</style>\n",
       "<table border=\"1\" class=\"dataframe\">\n",
       "  <thead>\n",
       "    <tr style=\"text-align: right;\">\n",
       "      <th></th>\n",
       "      <th>Title</th>\n",
       "      <th>Review</th>\n",
       "      <th>Date</th>\n",
       "      <th>Rating</th>\n",
       "      <th>ReviewText</th>\n",
       "      <th>TitleText</th>\n",
       "    </tr>\n",
       "  </thead>\n",
       "  <tbody>\n",
       "    <tr>\n",
       "      <th>0</th>\n",
       "      <td>Never seen the anime and still enjoyed it</td>\n",
       "      <td>I have to admit that I've never watched any of the animated show One Piece or even heard about it for that matter. I'm really not a big fan of anime. Then after watching the trailers for this I thought it looked like a show for children. I was wrong. I kept reading about how good this show is and how it's #1 on Netflix so I thought I'd give it a chance. I'm glad I did because I couldn't have been more wrong. This is a show where people of all ages can enjoy. If you can just turn off your brain and watch I promise you'll have a good time. If you're looking for a new show to binge then give One Piece a try. You won't be disappointed!</td>\n",
       "      <td>4 September 2023</td>\n",
       "      <td>8.0</td>\n",
       "      <td>admit 've never watched animated show one piece even heard matter . 'm really big fan anime . watching trailer thought looked like show child . wrong . kept reading good show 's # 1 netflix thought 'd give chance . 'm glad could n't wrong . show people age enjoy . turn brain watch promise 'll good time . 're looking new show binge give one piece try . wo n't disappointed !</td>\n",
       "      <td>never seen anime still enjoyed</td>\n",
       "    </tr>\n",
       "    <tr>\n",
       "      <th>1</th>\n",
       "      <td>Not My Kind of Show. But This I Loved.</td>\n",
       "      <td>I'm a 60yo man &amp; old school like the The Marine Admiral 😄. I've never heard of One Piece anime, in fact I'm not into anime at all. But this, this was a complete experience, it is bloody addictive.\\n\\nThe main characters optimism &amp; acceptance of others pursuing their dreams regardless of whether or not he agrees with them or indeed they're the dreams of his enemies is a thing of beauty. The kids attitude to his fellow man is admirable &amp; his attitude toward pursuing his own life should serve as a lesson to us all.\\n\\nThe other characters come together nicely too, each different but each with unique problems &amp; gifts - they gel nicely.\\n\\nI can't put my finger on why I loved this show, I just did. It's quirky, it's violent, it's gentle, it's about battles, friendships, dreams, courage, fear &amp; loyalty, &amp; all of it done meaningfully.\\n\\nIt's also beautiful to look at.\\n\\nI hope there is a season 2. It deserves to continue.\\n\\nBravo 👏</td>\n",
       "      <td>4 September 2023</td>\n",
       "      <td>9.0</td>\n",
       "      <td>'m 60yo man &amp; old school like marine admiral 😄 . 've never heard one piece anime , fact 'm anime . , complete experience , bloody addictive . main character optimism &amp; acceptance others pursuing dream regardless whether agrees indeed 're dream enemy thing beauty . kid attitude fellow man admirable &amp; attitude toward pursuing life serve lesson u . character come together nicely , different unique problem &amp; gift - gel nicely . ca n't put finger loved show , . 's quirky , 's violent , 's gentle , 's battle , friendship , dream , courage , fear &amp; loyalty , &amp; done meaningfully . 's also beautiful look . hope season 2. deserves continue . bravo 👏</td>\n",
       "      <td>kind show . loved .</td>\n",
       "    </tr>\n",
       "    <tr>\n",
       "      <th>2</th>\n",
       "      <td>I'm Shocked By How Good This Is...</td>\n",
       "      <td>Every live action anime that I've briefly seen has been nothing short of a disaster, and considering how many times Netflix tried to bring Anime's to life I thought One Piece was about to receive the same fate. But to my surprise I was wrong.\\n\\nJust 3 episodes in you could tell the care the creators put into this show. The set designs, the action sequences, and even to my surprise the actors bring so much.\\n\\nIñaki Godoy as Luffy is to my surprise holding his own in this role. Luffy is such a love or hate character and imagining a live action for him seems like a recipe for disaster. But Godoy somehow is able to maintain the goofiness within the character without making him unbearable, and that deserves some applause. I think Emily Rudd, Mackenyu, Morgan Davies, and Jacob Romero are great as well.\\n\\nAnd as someone who's only watched the first 10-15 episodes of One Piece, I love the route they went with Buggy in episode 2 compared to the beginning of the Anime/Manga. Jeff Ward made him extremely terrifying in the show and the way they used the crowd as prisoners, forcing them to clap was slightly terrifying.\\n\\nI wasn't even sure if they'd do the iconic Shanks moment early on for budget reasons, but they did it and it was actually great. Not to say everything is perfect because at times the show can get a little too cartoony for me, but my low expectations were blown away. I'm glad to see the awful live action anime stereotype take a hit and potentially make room for other people who aspire to bring an anime to life, and even with a very small chance, potentially do it justice like we saw here.\\n\\nIt's only season 1 and there is plenty of room for error, but I'm glad to say I've been proven wrong and I actually have hope for this adaptation.</td>\n",
       "      <td>1 September 2023</td>\n",
       "      <td>9.0</td>\n",
       "      <td>every live action anime 've briefly seen nothing short disaster , considering many time netflix tried bring anime 's life thought one piece receive fate . surprise wrong . 3 episode could tell care creator put show . set design , action sequence , even surprise actor bring much . iñaki godoy luffy surprise holding role . luffy love hate character imagining live action seems like recipe disaster . godoy somehow able maintain goofiness within character without making unbearable , deserves applause . think emily rudd , mackenyu , morgan davy , jacob romero great well . someone 's watched first 10-15 episode one piece , love route went buggy episode 2 compared beginning anime/manga . jeff ward made extremely terrifying show way used crowd prisoner , forcing clap slightly terrifying . n't even sure 'd iconic shank moment early budget reason , actually great . say everything perfect time show get little cartoony , low expectation blown away . 'm glad see awful live action anime stereotype take hit potentially make room people aspire bring anime life , even small chance , potentially justice like saw . 's season 1 plenty room error , 'm glad say 've proven wrong actually hope adaptation .</td>\n",
       "      <td>'m shocked good ...</td>\n",
       "    </tr>\n",
       "    <tr>\n",
       "      <th>3</th>\n",
       "      <td>See Netflix?? You CAN do it...</td>\n",
       "      <td>This is bar none one of the best live-action adaptions to any animated source material I have ever seen. I have been a diehard One Piece fan since I was a preteen; it was one of the first manga I ever read and I still watch it to this day. Admittedly, when I first saw a remake was in the works and saw the promos for it, I could feel myself almost instinctively getting nauseous. I saw the characters and bauked at the mere aesthetics of the show, let alone the other details. My heart sank into a pit as I pleaded pitifully in my head, \"Please, PLEASE don't touch this one. I still haven't recovered from the massacring of Avatar TLA, Dragonball Evolution (I know those weren't Netflix, but still), Death Note, AND FullMetal Alchemist, please don't destroy something else from my childhood just for the sake of playing pretend and trying to get subscriptions .\"\\n\\nBut lo and behold, I watched the trailer for it and every previously described feeling of dread in me was evaporated by a sudden rush of euphoria and excitement. I had goosebumps on my goosebumps and my heart was in my throat. I immediately resubscribed to Netflix and began watching and MY-GOSH, guys.\\n\\nI will restate that this is the best adaption of any source material I've ever seen. I will warn you the more \"human\" looking rendition of the characters takes some getting used to, but my gosh, it's all there - the humor, the action, the heart, and barely a single editorial or filmographic choice is wasted. You're not going to find a cut-by-cut (no pun intended, Zoro) rendition of the original story, but that actually works here and keeps things moving and working in a cohesive way.\\n\\nFor first time fans or devoted veterans like me, you could not ask for a better introduction to an anime series in this medium. Please give it a chance.</td>\n",
       "      <td>4 September 2023</td>\n",
       "      <td>10.0</td>\n",
       "      <td>bar none one best live-action adaption animated source material ever seen . diehard one piece fan since preteen ; one first manga ever read still watch day . admittedly , first saw remake work saw promos , could feel almost instinctively getting nauseous . saw character bauked mere aesthetic show , let alone detail . heart sank pit pleaded pitifully head , `` please , please n't touch one . still n't recovered massacring avatar tla , dragonball evolution ( know n't netflix , still ) , death note , fullmetal alchemist , please n't destroy something else childhood sake playing pretend trying get subscription . '' lo behold , watched trailer every previously described feeling dread evaporated sudden rush euphoria excitement . goosebump goosebump heart throat . immediately resubscribed netflix began watching my-gosh , guy . restate best adaption source material 've ever seen . warn `` human '' looking rendition character take getting used , gosh , 's - humor , action , heart , barely single editorial filmographic choice wasted . 're going find cut-by-cut ( pun intended , zoro ) rendition original story , actually work keep thing moving working cohesive way . first time fan devoted veteran like , could ask better introduction anime series medium . please give chance .</td>\n",
       "      <td>see netflix ? ? ...</td>\n",
       "    </tr>\n",
       "    <tr>\n",
       "      <th>4</th>\n",
       "      <td>WE WANT SEASON 2</td>\n",
       "      <td>Being a one piece fan myself, I was a bit insecured about starting the series but boy do I never got off my bed through all these 8 episodes. The Live Adaptation is way beyond my expectations and I seriously cried and laughed along every emotional and comforting moment. NETFLIX PLEASE RELEASE SEASON 2. The portrayal of Monkey D Luffy was perfect as well as other characters. Every Episode had its own main character and the introduction to each and every straw pirate crew was done with utmost respect and love 💕. Can't wait for more pirate crew members to be introduced in the later seasons especially Nico Robin.</td>\n",
       "      <td>31 August 2023</td>\n",
       "      <td>10.0</td>\n",
       "      <td>one piece fan , bit insecured starting series boy never got bed 8 episode . live adaptation way beyond expectation seriously cried laughed along every emotional comforting moment . netflix please release season 2. portrayal monkey luffy perfect well character . every episode main character introduction every straw pirate crew done utmost respect love 💕 . ca n't wait pirate crew member introduced later season especially nico robin .</td>\n",
       "      <td>want season 2</td>\n",
       "    </tr>\n",
       "    <tr>\n",
       "      <th>...</th>\n",
       "      <td>...</td>\n",
       "      <td>...</td>\n",
       "      <td>...</td>\n",
       "      <td>...</td>\n",
       "      <td>...</td>\n",
       "      <td>...</td>\n",
       "    </tr>\n",
       "    <tr>\n",
       "      <th>873</th>\n",
       "      <td>Most faithful and high quality adaptation since Lord of the Rings</td>\n",
       "      <td>I haven't written a review in a very long time but as a long-time fan of One Piece and cinematography in general, I had to stop and say: Bravo!\\n\\nAdapting any type of source material to either the big or small screen is an almost impossible endeavor. An attempt that will likely end up in failure in almost every single case, even when the crew and producers care about it.\\n\\nOne piece is a rare exception. A gold nugget. Something I haven't seen since Lord of the Rings. If you are a fan of the original manga today is a day of celebration. Call a couple of friends, buy a giant pizza and go watch it together in the biggest screen you can find.\\n\\nTalk about managing expectations ;).\\n\\nEnjoy!</td>\n",
       "      <td>2 September 2023</td>\n",
       "      <td>10.0</td>\n",
       "      <td>n't written review long time long-time fan one piece cinematography general , stop say : bravo ! adapting type source material either big small screen almost impossible endeavor . attempt likely end failure almost every single case , even crew producer care . one piece rare exception . gold nugget . something n't seen since lord ring . fan original manga today day celebration . call couple friend , buy giant pizza go watch together biggest screen find . talk managing expectation ; ) . enjoy !</td>\n",
       "      <td>faithful high quality adaptation since lord ring</td>\n",
       "    </tr>\n",
       "    <tr>\n",
       "      <th>874</th>\n",
       "      <td>Me and my son loving it! The best entertaining and exciting show of the year!</td>\n",
       "      <td>This is my first IMDb review.\\n\\nI've watched all 8 episodes in one day together with my 11 years old son and we truly enjoyed from the beginning til the end. We want 2nd season!!!\\n\\nThe series makes several references to the anime. We have in some moments the instrumental of the opening song of the anime. The story is engaging and good, and it's good to watch with your family members. Highly recommended.\\n\\nOverall, its a good adaptation! I was shocked to find myself smiling whenever Godoy's Luffy comes on screen first episode and onward. The casting director did a fantastic job on finding actors to fit the characters as well as, the rest of the supporting cast! The subtle details they've added were a lovely touch to show they truly did their research. Even with the new changes they did, still feels like one piece at the end just in a different format. I didn't put it a full 10 star because there is always room for improvement! Honestly, felt I was a kid again when I discovered one piece watching this, and falling in love with the characters.</td>\n",
       "      <td>1 September 2023</td>\n",
       "      <td>9.0</td>\n",
       "      <td>first imdb review . 've watched 8 episode one day together 11 year old son truly enjoyed beginning til end . want 2nd season ! ! ! series make several reference anime . moment instrumental opening song anime . story engaging good , 's good watch family member . highly recommended . overall , good adaptation ! shocked find smiling whenever godoy 's luffy come screen first episode onward . casting director fantastic job finding actor fit character well , rest supporting cast ! subtle detail 've added lovely touch show truly research . even new change , still feel like one piece end different format . n't put full 10 star always room improvement ! honestly , felt kid discovered one piece watching , falling love character .</td>\n",
       "      <td>son loving ! best entertaining exciting show year !</td>\n",
       "    </tr>\n",
       "    <tr>\n",
       "      <th>875</th>\n",
       "      <td>A very good adaptation to the famous anime</td>\n",
       "      <td>An absolute gem! This show is a must-watch, and I wholeheartedly recommend it. It easily outshines the mediocre anime adaptation that often fail to do justice to the source material. It's the second-best way to immerse yourself in the captivating world of One Piece, right after the original manga. The series flawlessly captures the essence of Eiichiro Oda's masterpiece, delivering a phenomenal experience. With its exceptional storytelling, rich character development, and meticulous attention to detail, it caters to both newcomers and die-hard fans alike. Whether you're new to the Grand Line or a seasoned pirate aficionado, this show is a treasure trove of entertainment that should not be missed. Now, some might complain about the changes they made such as introducing characters early into the series that normally wouldn't come until future arcs and a few others, but I say those people are f#%king nerds and who gives a sh#$. So set sail on this epic adventure and discover why it's an absolute triumph.</td>\n",
       "      <td>3 September 2023</td>\n",
       "      <td>10.0</td>\n",
       "      <td>absolute gem ! show must-watch , wholeheartedly recommend . easily outshines mediocre anime adaptation often fail justice source material . 's second-best way immerse captivating world one piece , right original manga . series flawlessly capture essence eiichiro oda 's masterpiece , delivering phenomenal experience . exceptional storytelling , rich character development , meticulous attention detail , caters newcomer die-hard fan alike . whether 're new grand line seasoned pirate aficionado , show treasure trove entertainment missed . , might complain change made introducing character early series normally would n't come future arc others , say people f # % king nerd give sh # $ . set sail epic adventure discover 's absolute triumph .</td>\n",
       "      <td>good adaptation famous anime</td>\n",
       "    </tr>\n",
       "    <tr>\n",
       "      <th>876</th>\n",
       "      <td>This wonderful thing...</td>\n",
       "      <td>I recently dived (no pun intended) into the world of One Piece anime and manga which I had avoided for years due to its length. However, once I gave it a chance, I found myself falling in love with Eiichiro Oda's characters, plot, themes, and the expansive world he created. When I first heard about the live-action adaptation, I was skeptical and expected it to be a failure. Despite my doubts, my heart hoped for its success, even though adapting such a complex source material seemed nearly impossible. One Piece, compared to other popular anime, is not an obvious choice for a successful live-action adaptation.\\n\\nTo my pleasant surprise, I couldn't have been more wrong. This live-action version took a unique approach, yet it managed to capture the essence and heart of the original material. It evoked the feelings of hope, passion, and genuine friendship that we all cherish. The emotional impact and plot twists were delivered effectively, and the character backstories added depth to each member of the cast. The actors, especially the Straw Hat crew, displayed excellent chemistry and did justice to their respective characters. The villains, with Buggy being a standout, were exemplary in their portrayals.\\n\\nSome might argue that the emotional impact was less than that of the anime, possibly because the anime delivered these moments first, somewhat diminishing their impact in the live-action adaptation. Additionally, there were those who disliked the idea of a live-action adaptation from the beginning, making it challenging for them to appreciate it. It can be difficult to overcome such preconceived notions.\\n\\nHowever, as a fan of both anime and TV series, I wholeheartedly recommend the One Piece live-action adaptation. You can truly sense the the heart of the entire team, from the production crew to the cast, in bringing this project to life. After a long, exhausting week at the start of the school year, I am grateful to have a series like this to provide a much-needed mental break and relief from exhaustion. Thank you, Oda, for creating this wonderful thing and for giving me even more reasons to fall deeper in love with your work.\\n\\nPS: Emily Rudd , you are so beautiful as Nami! I am simping for you the whole time! HAHA\\n\\nNow watch it!\\n\\nRating: 9.5/10.</td>\n",
       "      <td>2 September 2023</td>\n",
       "      <td>10.0</td>\n",
       "      <td>recently dived ( pun intended ) world one piece anime manga avoided year due length . however , gave chance , found falling love eiichiro oda 's character , plot , theme , expansive world created . first heard live-action adaptation , skeptical expected failure . despite doubt , heart hoped success , even though adapting complex source material seemed nearly impossible . one piece , compared popular anime , obvious choice successful live-action adaptation . pleasant surprise , could n't wrong . live-action version took unique approach , yet managed capture essence heart original material . evoked feeling hope , passion , genuine friendship cherish . emotional impact plot twist delivered effectively , character backstories added depth member cast . actor , especially straw hat crew , displayed excellent chemistry justice respective character . villain , buggy standout , exemplary portrayal . might argue emotional impact le anime , possibly anime delivered moment first , somewhat diminishing impact live-action adaptation . additionally , disliked idea live-action adaptation beginning , making challenging appreciate . difficult overcome preconceived notion . however , fan anime tv series , wholeheartedly recommend one piece live-action adaptation . truly sense heart entire team , production crew cast , bringing project life . long , exhausting week start school year , grateful series like provide much-needed mental break relief exhaustion . thank , oda , creating wonderful thing giving even reason fall deeper love work . p : emily rudd , beautiful nami ! simping whole time ! haha watch ! rating : 9.5/10 .</td>\n",
       "      <td>wonderful thing ...</td>\n",
       "    </tr>\n",
       "    <tr>\n",
       "      <th>877</th>\n",
       "      <td>Best adaptation so far</td>\n",
       "      <td>I watched first eposide and I can say they did best they can. Although there are some changes and I think those are due to limitation of adapting diversed story of ONE PIECE. I loved how they casted actor fit the role. It may sound funny to those who have been watching ONE PIECE anime in japanese because of english language but it not bad.i think it will be the great for those who want are not anime fan. Overall it loved it and has my full support.\\n\\n. .\\n\\n. .\\n\\n. .\\n\\n. .\\n\\nP.s I also want support it because I want lot of arc to be adapted or else they might cancel it.so I advice all to watch ONE PEICE great adaptation, okay than ..sayonara....</td>\n",
       "      <td>1 September 2023</td>\n",
       "      <td>9.0</td>\n",
       "      <td>watched first eposide say best . although change think due limitation adapting diversed story one piece . loved casted actor fit role . may sound funny watching one piece anime japanese english language bad.i think great want anime fan . overall loved full support . . . . . . . . . p.s also want support want lot arc adapted else might cancel it.so advice watch one peice great adaptation , okay .. sayonara ....</td>\n",
       "      <td>best adaptation far</td>\n",
       "    </tr>\n",
       "  </tbody>\n",
       "</table>\n",
       "<p>878 rows × 6 columns</p>\n",
       "</div>"
      ],
      "text/plain": [
       "                                                                             Title  \\\n",
       "0                                        Never seen the anime and still enjoyed it   \n",
       "1                                           Not My Kind of Show. But This I Loved.   \n",
       "2                                               I'm Shocked By How Good This Is...   \n",
       "3                                                   See Netflix?? You CAN do it...   \n",
       "4                                                                 WE WANT SEASON 2   \n",
       "..                                                                             ...   \n",
       "873              Most faithful and high quality adaptation since Lord of the Rings   \n",
       "874  Me and my son loving it! The best entertaining and exciting show of the year!   \n",
       "875                                     A very good adaptation to the famous anime   \n",
       "876                                                        This wonderful thing...   \n",
       "877                                                         Best adaptation so far   \n",
       "\n",
       "                                                                                                                                                                                                                                                                                                                                                                                                                                                                                                                                                                                                                                                                                                                                                                                                                                                                                                                                                                                                                                                                                                                                                                                                                                                                                                                                                                                                                                                                                                                                                                                                                                                                                                                                                                                                                                                                                                                                                                                                                                                                                                                                                                                                                                                                                                                                                                                     Review  \\\n",
       "0                                                                                                                                                                                                                                                                                                                                                                                                                                                                                                                                                                                                                                                                                                                                                                                                                                                                                                                                                                                                                                                                                                                                                                                                                                                                                                                                                                                                                                                                                                                                                                                                                                                                                                                           I have to admit that I've never watched any of the animated show One Piece or even heard about it for that matter. I'm really not a big fan of anime. Then after watching the trailers for this I thought it looked like a show for children. I was wrong. I kept reading about how good this show is and how it's #1 on Netflix so I thought I'd give it a chance. I'm glad I did because I couldn't have been more wrong. This is a show where people of all ages can enjoy. If you can just turn off your brain and watch I promise you'll have a good time. If you're looking for a new show to binge then give One Piece a try. You won't be disappointed!   \n",
       "1                                                                                                                                                                                                                                                                                                                                                                                                                                                                                                                                                                                                                                                                                                                                                                                                                                                                                                                                                                                                                                                                                                                                                                                                                                                                                                                                                                                                             I'm a 60yo man & old school like the The Marine Admiral 😄. I've never heard of One Piece anime, in fact I'm not into anime at all. But this, this was a complete experience, it is bloody addictive.\\n\\nThe main characters optimism & acceptance of others pursuing their dreams regardless of whether or not he agrees with them or indeed they're the dreams of his enemies is a thing of beauty. The kids attitude to his fellow man is admirable & his attitude toward pursuing his own life should serve as a lesson to us all.\\n\\nThe other characters come together nicely too, each different but each with unique problems & gifts - they gel nicely.\\n\\nI can't put my finger on why I loved this show, I just did. It's quirky, it's violent, it's gentle, it's about battles, friendships, dreams, courage, fear & loyalty, & all of it done meaningfully.\\n\\nIt's also beautiful to look at.\\n\\nI hope there is a season 2. It deserves to continue.\\n\\nBravo 👏   \n",
       "2                                                                                                                                                                                                                                                                                                                                                                                                                                                                                                                                              Every live action anime that I've briefly seen has been nothing short of a disaster, and considering how many times Netflix tried to bring Anime's to life I thought One Piece was about to receive the same fate. But to my surprise I was wrong.\\n\\nJust 3 episodes in you could tell the care the creators put into this show. The set designs, the action sequences, and even to my surprise the actors bring so much.\\n\\nIñaki Godoy as Luffy is to my surprise holding his own in this role. Luffy is such a love or hate character and imagining a live action for him seems like a recipe for disaster. But Godoy somehow is able to maintain the goofiness within the character without making him unbearable, and that deserves some applause. I think Emily Rudd, Mackenyu, Morgan Davies, and Jacob Romero are great as well.\\n\\nAnd as someone who's only watched the first 10-15 episodes of One Piece, I love the route they went with Buggy in episode 2 compared to the beginning of the Anime/Manga. Jeff Ward made him extremely terrifying in the show and the way they used the crowd as prisoners, forcing them to clap was slightly terrifying.\\n\\nI wasn't even sure if they'd do the iconic Shanks moment early on for budget reasons, but they did it and it was actually great. Not to say everything is perfect because at times the show can get a little too cartoony for me, but my low expectations were blown away. I'm glad to see the awful live action anime stereotype take a hit and potentially make room for other people who aspire to bring an anime to life, and even with a very small chance, potentially do it justice like we saw here.\\n\\nIt's only season 1 and there is plenty of room for error, but I'm glad to say I've been proven wrong and I actually have hope for this adaptation.   \n",
       "3                                                                                                                                                                                                                                                                                                                                                                                                                                                                                                 This is bar none one of the best live-action adaptions to any animated source material I have ever seen. I have been a diehard One Piece fan since I was a preteen; it was one of the first manga I ever read and I still watch it to this day. Admittedly, when I first saw a remake was in the works and saw the promos for it, I could feel myself almost instinctively getting nauseous. I saw the characters and bauked at the mere aesthetics of the show, let alone the other details. My heart sank into a pit as I pleaded pitifully in my head, \"Please, PLEASE don't touch this one. I still haven't recovered from the massacring of Avatar TLA, Dragonball Evolution (I know those weren't Netflix, but still), Death Note, AND FullMetal Alchemist, please don't destroy something else from my childhood just for the sake of playing pretend and trying to get subscriptions .\"\\n\\nBut lo and behold, I watched the trailer for it and every previously described feeling of dread in me was evaporated by a sudden rush of euphoria and excitement. I had goosebumps on my goosebumps and my heart was in my throat. I immediately resubscribed to Netflix and began watching and MY-GOSH, guys.\\n\\nI will restate that this is the best adaption of any source material I've ever seen. I will warn you the more \"human\" looking rendition of the characters takes some getting used to, but my gosh, it's all there - the humor, the action, the heart, and barely a single editorial or filmographic choice is wasted. You're not going to find a cut-by-cut (no pun intended, Zoro) rendition of the original story, but that actually works here and keeps things moving and working in a cohesive way.\\n\\nFor first time fans or devoted veterans like me, you could not ask for a better introduction to an anime series in this medium. Please give it a chance.   \n",
       "4                                                                                                                                                                                                                                                                                                                                                                                                                                                                                                                                                                                                                                                                                                                                                                                                                                                                                                                                                                                                                                                                                                                                                                                                                                                                                                                                                                                                                                                                                                                                                                                                                                                                                                                                                  Being a one piece fan myself, I was a bit insecured about starting the series but boy do I never got off my bed through all these 8 episodes. The Live Adaptation is way beyond my expectations and I seriously cried and laughed along every emotional and comforting moment. NETFLIX PLEASE RELEASE SEASON 2. The portrayal of Monkey D Luffy was perfect as well as other characters. Every Episode had its own main character and the introduction to each and every straw pirate crew was done with utmost respect and love 💕. Can't wait for more pirate crew members to be introduced in the later seasons especially Nico Robin.   \n",
       "..                                                                                                                                                                                                                                                                                                                                                                                                                                                                                                                                                                                                                                                                                                                                                                                                                                                                                                                                                                                                                                                                                                                                                                                                                                                                                                                                                                                                                                                                                                                                                                                                                                                                                                                                                                                                                                                                                                                                                                                                                                                                                                                                                                                                                                                                                                                                                                                      ...   \n",
       "873                                                                                                                                                                                                                                                                                                                                                                                                                                                                                                                                                                                                                                                                                                                                                                                                                                                                                                                                                                                                                                                                                                                                                                                                                                                                                                                                                                                                                                                                                                                                                                                                                                                              I haven't written a review in a very long time but as a long-time fan of One Piece and cinematography in general, I had to stop and say: Bravo!\\n\\nAdapting any type of source material to either the big or small screen is an almost impossible endeavor. An attempt that will likely end up in failure in almost every single case, even when the crew and producers care about it.\\n\\nOne piece is a rare exception. A gold nugget. Something I haven't seen since Lord of the Rings. If you are a fan of the original manga today is a day of celebration. Call a couple of friends, buy a giant pizza and go watch it together in the biggest screen you can find.\\n\\nTalk about managing expectations ;).\\n\\nEnjoy!   \n",
       "874                                                                                                                                                                                                                                                                                                                                                                                                                                                                                                                                                                                                                                                                                                                                                                                                                                                                                                                                                                                                                                                                                                                                                                                                                                                                                    This is my first IMDb review.\\n\\nI've watched all 8 episodes in one day together with my 11 years old son and we truly enjoyed from the beginning til the end. We want 2nd season!!!\\n\\nThe series makes several references to the anime. We have in some moments the instrumental of the opening song of the anime. The story is engaging and good, and it's good to watch with your family members. Highly recommended.\\n\\nOverall, its a good adaptation! I was shocked to find myself smiling whenever Godoy's Luffy comes on screen first episode and onward. The casting director did a fantastic job on finding actors to fit the characters as well as, the rest of the supporting cast! The subtle details they've added were a lovely touch to show they truly did their research. Even with the new changes they did, still feels like one piece at the end just in a different format. I didn't put it a full 10 star because there is always room for improvement! Honestly, felt I was a kid again when I discovered one piece watching this, and falling in love with the characters.   \n",
       "875                                                                                                                                                                                                                                                                                                                                                                                                                                                                                                                                                                                                                                                                                                                                                                                                                                                                                                                                                                                                                                                                                                                                                                                                                                                                                                                                 An absolute gem! This show is a must-watch, and I wholeheartedly recommend it. It easily outshines the mediocre anime adaptation that often fail to do justice to the source material. It's the second-best way to immerse yourself in the captivating world of One Piece, right after the original manga. The series flawlessly captures the essence of Eiichiro Oda's masterpiece, delivering a phenomenal experience. With its exceptional storytelling, rich character development, and meticulous attention to detail, it caters to both newcomers and die-hard fans alike. Whether you're new to the Grand Line or a seasoned pirate aficionado, this show is a treasure trove of entertainment that should not be missed. Now, some might complain about the changes they made such as introducing characters early into the series that normally wouldn't come until future arcs and a few others, but I say those people are f#%king nerds and who gives a sh#$. So set sail on this epic adventure and discover why it's an absolute triumph.   \n",
       "876  I recently dived (no pun intended) into the world of One Piece anime and manga which I had avoided for years due to its length. However, once I gave it a chance, I found myself falling in love with Eiichiro Oda's characters, plot, themes, and the expansive world he created. When I first heard about the live-action adaptation, I was skeptical and expected it to be a failure. Despite my doubts, my heart hoped for its success, even though adapting such a complex source material seemed nearly impossible. One Piece, compared to other popular anime, is not an obvious choice for a successful live-action adaptation.\\n\\nTo my pleasant surprise, I couldn't have been more wrong. This live-action version took a unique approach, yet it managed to capture the essence and heart of the original material. It evoked the feelings of hope, passion, and genuine friendship that we all cherish. The emotional impact and plot twists were delivered effectively, and the character backstories added depth to each member of the cast. The actors, especially the Straw Hat crew, displayed excellent chemistry and did justice to their respective characters. The villains, with Buggy being a standout, were exemplary in their portrayals.\\n\\nSome might argue that the emotional impact was less than that of the anime, possibly because the anime delivered these moments first, somewhat diminishing their impact in the live-action adaptation. Additionally, there were those who disliked the idea of a live-action adaptation from the beginning, making it challenging for them to appreciate it. It can be difficult to overcome such preconceived notions.\\n\\nHowever, as a fan of both anime and TV series, I wholeheartedly recommend the One Piece live-action adaptation. You can truly sense the the heart of the entire team, from the production crew to the cast, in bringing this project to life. After a long, exhausting week at the start of the school year, I am grateful to have a series like this to provide a much-needed mental break and relief from exhaustion. Thank you, Oda, for creating this wonderful thing and for giving me even more reasons to fall deeper in love with your work.\\n\\nPS: Emily Rudd , you are so beautiful as Nami! I am simping for you the whole time! HAHA\\n\\nNow watch it!\\n\\nRating: 9.5/10.   \n",
       "877                                                                                                                                                                                                                                                                                                                                                                                                                                                                                                                                                                                                                                                                                                                                                                                                                                                                                                                                                                                                                                                                                                                                                                                                                                                                                                                                                                                                                                                                                                                                                                                                                                                                                                       I watched first eposide and I can say they did best they can. Although there are some changes and I think those are due to limitation of adapting diversed story of ONE PIECE. I loved how they casted actor fit the role. It may sound funny to those who have been watching ONE PIECE anime in japanese because of english language but it not bad.i think it will be the great for those who want are not anime fan. Overall it loved it and has my full support.\\n\\n. .\\n\\n. .\\n\\n. .\\n\\n. .\\n\\nP.s I also want support it because I want lot of arc to be adapted or else they might cancel it.so I advice all to watch ONE PEICE great adaptation, okay than ..sayonara....   \n",
       "\n",
       "                 Date  Rating  \\\n",
       "0    4 September 2023     8.0   \n",
       "1    4 September 2023     9.0   \n",
       "2    1 September 2023     9.0   \n",
       "3    4 September 2023    10.0   \n",
       "4      31 August 2023    10.0   \n",
       "..                ...     ...   \n",
       "873  2 September 2023    10.0   \n",
       "874  1 September 2023     9.0   \n",
       "875  3 September 2023    10.0   \n",
       "876  2 September 2023    10.0   \n",
       "877  1 September 2023     9.0   \n",
       "\n",
       "                                                                                                                                                                                                                                                                                                                                                                                                                                                                                                                                                                                                                                                                                                                                                                                                                                                                                                                                                                                                                                                                                                                                                                                                                                                                                                                                                                                                                                                                                                                                                                                                                                                                                        ReviewText  \\\n",
       "0                                                                                                                                                                                                                                                                                                                                                                                                                                                                                                                                                                                                                                                                                                                                                                                                                                                                                                                                                                                                                                                                                                                                                                                                                                                                                                          admit 've never watched animated show one piece even heard matter . 'm really big fan anime . watching trailer thought looked like show child . wrong . kept reading good show 's # 1 netflix thought 'd give chance . 'm glad could n't wrong . show people age enjoy . turn brain watch promise 'll good time . 're looking new show binge give one piece try . wo n't disappointed !   \n",
       "1                                                                                                                                                                                                                                                                                                                                                                                                                                                                                                                                                                                                                                                                                                                                                                                                                                                                                                                                                                                                                          'm 60yo man & old school like marine admiral 😄 . 've never heard one piece anime , fact 'm anime . , complete experience , bloody addictive . main character optimism & acceptance others pursuing dream regardless whether agrees indeed 're dream enemy thing beauty . kid attitude fellow man admirable & attitude toward pursuing life serve lesson u . character come together nicely , different unique problem & gift - gel nicely . ca n't put finger loved show , . 's quirky , 's violent , 's gentle , 's battle , friendship , dream , courage , fear & loyalty , & done meaningfully . 's also beautiful look . hope season 2. deserves continue . bravo 👏   \n",
       "2                                                                                                                                                                                                                                                                                                                                                                                                                                                 every live action anime 've briefly seen nothing short disaster , considering many time netflix tried bring anime 's life thought one piece receive fate . surprise wrong . 3 episode could tell care creator put show . set design , action sequence , even surprise actor bring much . iñaki godoy luffy surprise holding role . luffy love hate character imagining live action seems like recipe disaster . godoy somehow able maintain goofiness within character without making unbearable , deserves applause . think emily rudd , mackenyu , morgan davy , jacob romero great well . someone 's watched first 10-15 episode one piece , love route went buggy episode 2 compared beginning anime/manga . jeff ward made extremely terrifying show way used crowd prisoner , forcing clap slightly terrifying . n't even sure 'd iconic shank moment early budget reason , actually great . say everything perfect time show get little cartoony , low expectation blown away . 'm glad see awful live action anime stereotype take hit potentially make room people aspire bring anime life , even small chance , potentially justice like saw . 's season 1 plenty room error , 'm glad say 've proven wrong actually hope adaptation .   \n",
       "3                                                                                                                                                                                                                                                                                                                                                              bar none one best live-action adaption animated source material ever seen . diehard one piece fan since preteen ; one first manga ever read still watch day . admittedly , first saw remake work saw promos , could feel almost instinctively getting nauseous . saw character bauked mere aesthetic show , let alone detail . heart sank pit pleaded pitifully head , `` please , please n't touch one . still n't recovered massacring avatar tla , dragonball evolution ( know n't netflix , still ) , death note , fullmetal alchemist , please n't destroy something else childhood sake playing pretend trying get subscription . '' lo behold , watched trailer every previously described feeling dread evaporated sudden rush euphoria excitement . goosebump goosebump heart throat . immediately resubscribed netflix began watching my-gosh , guy . restate best adaption source material 've ever seen . warn `` human '' looking rendition character take getting used , gosh , 's - humor , action , heart , barely single editorial filmographic choice wasted . 're going find cut-by-cut ( pun intended , zoro ) rendition original story , actually work keep thing moving working cohesive way . first time fan devoted veteran like , could ask better introduction anime series medium . please give chance .   \n",
       "4                                                                                                                                                                                                                                                                                                                                                                                                                                                                                                                                                                                                                                                                                                                                                                                                                                                                                                                                                                                                                                                                                                                                                                                                                                              one piece fan , bit insecured starting series boy never got bed 8 episode . live adaptation way beyond expectation seriously cried laughed along every emotional comforting moment . netflix please release season 2. portrayal monkey luffy perfect well character . every episode main character introduction every straw pirate crew done utmost respect love 💕 . ca n't wait pirate crew member introduced later season especially nico robin .   \n",
       "..                                                                                                                                                                                                                                                                                                                                                                                                                                                                                                                                                                                                                                                                                                                                                                                                                                                                                                                                                                                                                                                                                                                                                                                                                                                                                                                                                                                                                                                                                                                                                                                                                                                                                             ...   \n",
       "873                                                                                                                                                                                                                                                                                                                                                                                                                                                                                                                                                                                                                                                                                                                                                                                                                                                                                                                                                                                                                                                                                                                                                                              n't written review long time long-time fan one piece cinematography general , stop say : bravo ! adapting type source material either big small screen almost impossible endeavor . attempt likely end failure almost every single case , even crew producer care . one piece rare exception . gold nugget . something n't seen since lord ring . fan original manga today day celebration . call couple friend , buy giant pizza go watch together biggest screen find . talk managing expectation ; ) . enjoy !   \n",
       "874                                                                                                                                                                                                                                                                                                                                                                                                                                                                                                                                                                                                                                                                                                                                                                                                                                                                                                                                      first imdb review . 've watched 8 episode one day together 11 year old son truly enjoyed beginning til end . want 2nd season ! ! ! series make several reference anime . moment instrumental opening song anime . story engaging good , 's good watch family member . highly recommended . overall , good adaptation ! shocked find smiling whenever godoy 's luffy come screen first episode onward . casting director fantastic job finding actor fit character well , rest supporting cast ! subtle detail 've added lovely touch show truly research . even new change , still feel like one piece end different format . n't put full 10 star always room improvement ! honestly , felt kid discovered one piece watching , falling love character .   \n",
       "875                                                                                                                                                                                                                                                                                                                                                                                                                                                                                                                                                                                                                                                                                                                                                                                                                                                                                                                       absolute gem ! show must-watch , wholeheartedly recommend . easily outshines mediocre anime adaptation often fail justice source material . 's second-best way immerse captivating world one piece , right original manga . series flawlessly capture essence eiichiro oda 's masterpiece , delivering phenomenal experience . exceptional storytelling , rich character development , meticulous attention detail , caters newcomer die-hard fan alike . whether 're new grand line seasoned pirate aficionado , show treasure trove entertainment missed . , might complain change made introducing character early series normally would n't come future arc others , say people f # % king nerd give sh # $ . set sail epic adventure discover 's absolute triumph .   \n",
       "876  recently dived ( pun intended ) world one piece anime manga avoided year due length . however , gave chance , found falling love eiichiro oda 's character , plot , theme , expansive world created . first heard live-action adaptation , skeptical expected failure . despite doubt , heart hoped success , even though adapting complex source material seemed nearly impossible . one piece , compared popular anime , obvious choice successful live-action adaptation . pleasant surprise , could n't wrong . live-action version took unique approach , yet managed capture essence heart original material . evoked feeling hope , passion , genuine friendship cherish . emotional impact plot twist delivered effectively , character backstories added depth member cast . actor , especially straw hat crew , displayed excellent chemistry justice respective character . villain , buggy standout , exemplary portrayal . might argue emotional impact le anime , possibly anime delivered moment first , somewhat diminishing impact live-action adaptation . additionally , disliked idea live-action adaptation beginning , making challenging appreciate . difficult overcome preconceived notion . however , fan anime tv series , wholeheartedly recommend one piece live-action adaptation . truly sense heart entire team , production crew cast , bringing project life . long , exhausting week start school year , grateful series like provide much-needed mental break relief exhaustion . thank , oda , creating wonderful thing giving even reason fall deeper love work . p : emily rudd , beautiful nami ! simping whole time ! haha watch ! rating : 9.5/10 .   \n",
       "877                                                                                                                                                                                                                                                                                                                                                                                                                                                                                                                                                                                                                                                                                                                                                                                                                                                                                                                                                                                                                                                                                                                                                                                                                                                                  watched first eposide say best . although change think due limitation adapting diversed story one piece . loved casted actor fit role . may sound funny watching one piece anime japanese english language bad.i think great want anime fan . overall loved full support . . . . . . . . . p.s also want support want lot arc adapted else might cancel it.so advice watch one peice great adaptation , okay .. sayonara ....   \n",
       "\n",
       "                                               TitleText  \n",
       "0                         never seen anime still enjoyed  \n",
       "1                                    kind show . loved .  \n",
       "2                                    'm shocked good ...  \n",
       "3                                    see netflix ? ? ...  \n",
       "4                                          want season 2  \n",
       "..                                                   ...  \n",
       "873     faithful high quality adaptation since lord ring  \n",
       "874  son loving ! best entertaining exciting show year !  \n",
       "875                         good adaptation famous anime  \n",
       "876                                  wonderful thing ...  \n",
       "877                                  best adaptation far  \n",
       "\n",
       "[878 rows x 6 columns]"
      ]
     },
     "metadata": {},
     "output_type": "display_data"
    }
   ],
   "source": [
    "display(df)"
   ]
  },
  {
   "cell_type": "markdown",
   "id": "346f95a1-02b3-4f77-80bb-4dd2471632b6",
   "metadata": {},
   "source": [
    "### Paso 4. Haga una función para obtener el sentimiento de las palabras, para ello puede utilizar el SentimentIntensityAnalizer() y su función \"polarity_scores()\". Al final debe retornar el puntaje de sentimiento."
   ]
  },
  {
   "cell_type": "code",
   "execution_count": 17,
   "id": "41d31b75-c36e-4d3b-8b70-49274d1e3763",
   "metadata": {},
   "outputs": [],
   "source": [
    "from nltk.sentiment import SentimentIntensityAnalyzer"
   ]
  },
  {
   "cell_type": "code",
   "execution_count": 20,
   "id": "9bc29aae-fe41-486b-b20b-67b80507cbce",
   "metadata": {},
   "outputs": [],
   "source": [
    "sia = SentimentIntensityAnalyzer()\n",
    "\n",
    "def obtener_sentimiento(texto):\n",
    "    puntajes = sia.polarity_scores(texto)\n",
    "    return puntajes['compound']"
   ]
  },
  {
   "cell_type": "markdown",
   "id": "7aa4a35b-4f50-44ff-9e41-d08e299befc6",
   "metadata": {},
   "source": [
    "### Paso 5. Aplique la función creada para obtener el sentimiento en las columnas creadas en el paso 3, guarde el resultado en un par de columnas nuevas (por ejemplo: \"ReviewSentiment\", \"TitleSentiment\")."
   ]
  },
  {
   "cell_type": "code",
   "execution_count": 21,
   "id": "2df0f399-da2c-4a2e-bab9-b32ccdced147",
   "metadata": {},
   "outputs": [],
   "source": [
    "df['ReviewSentiment'] = df['ReviewText'].apply(obtener_sentimiento)\n",
    "df['TitleSentiment'] = df['TitleText'].apply(obtener_sentimiento)"
   ]
  },
  {
   "cell_type": "code",
   "execution_count": 22,
   "id": "fd0eab0a-ce25-4548-8132-5368f709c0e3",
   "metadata": {},
   "outputs": [
    {
     "data": {
      "text/html": [
       "<div>\n",
       "<style scoped>\n",
       "    .dataframe tbody tr th:only-of-type {\n",
       "        vertical-align: middle;\n",
       "    }\n",
       "\n",
       "    .dataframe tbody tr th {\n",
       "        vertical-align: top;\n",
       "    }\n",
       "\n",
       "    .dataframe thead th {\n",
       "        text-align: right;\n",
       "    }\n",
       "</style>\n",
       "<table border=\"1\" class=\"dataframe\">\n",
       "  <thead>\n",
       "    <tr style=\"text-align: right;\">\n",
       "      <th></th>\n",
       "      <th>Title</th>\n",
       "      <th>Review</th>\n",
       "      <th>Date</th>\n",
       "      <th>Rating</th>\n",
       "      <th>ReviewText</th>\n",
       "      <th>TitleText</th>\n",
       "      <th>ReviewSentiment</th>\n",
       "      <th>TitleSentiment</th>\n",
       "    </tr>\n",
       "  </thead>\n",
       "  <tbody>\n",
       "    <tr>\n",
       "      <th>0</th>\n",
       "      <td>Never seen the anime and still enjoyed it</td>\n",
       "      <td>I have to admit that I've never watched any of the animated show One Piece or even heard about it for that matter. I'm really not a big fan of anime. Then after watching the trailers for this I thought it looked like a show for children. I was wrong. I kept reading about how good this show is and how it's #1 on Netflix so I thought I'd give it a chance. I'm glad I did because I couldn't have been more wrong. This is a show where people of all ages can enjoy. If you can just turn off your brain and watch I promise you'll have a good time. If you're looking for a new show to binge then give One Piece a try. You won't be disappointed!</td>\n",
       "      <td>4 September 2023</td>\n",
       "      <td>8.0</td>\n",
       "      <td>admit 've never watched animated show one piece even heard matter . 'm really big fan anime . watching trailer thought looked like show child . wrong . kept reading good show 's # 1 netflix thought 'd give chance . 'm glad could n't wrong . show people age enjoy . turn brain watch promise 'll good time . 're looking new show binge give one piece try . wo n't disappointed !</td>\n",
       "      <td>never seen anime still enjoyed</td>\n",
       "      <td>0.9511</td>\n",
       "      <td>0.5106</td>\n",
       "    </tr>\n",
       "    <tr>\n",
       "      <th>1</th>\n",
       "      <td>Not My Kind of Show. But This I Loved.</td>\n",
       "      <td>I'm a 60yo man &amp; old school like the The Marine Admiral 😄. I've never heard of One Piece anime, in fact I'm not into anime at all. But this, this was a complete experience, it is bloody addictive.\\n\\nThe main characters optimism &amp; acceptance of others pursuing their dreams regardless of whether or not he agrees with them or indeed they're the dreams of his enemies is a thing of beauty. The kids attitude to his fellow man is admirable &amp; his attitude toward pursuing his own life should serve as a lesson to us all.\\n\\nThe other characters come together nicely too, each different but each with unique problems &amp; gifts - they gel nicely.\\n\\nI can't put my finger on why I loved this show, I just did. It's quirky, it's violent, it's gentle, it's about battles, friendships, dreams, courage, fear &amp; loyalty, &amp; all of it done meaningfully.\\n\\nIt's also beautiful to look at.\\n\\nI hope there is a season 2. It deserves to continue.\\n\\nBravo 👏</td>\n",
       "      <td>4 September 2023</td>\n",
       "      <td>9.0</td>\n",
       "      <td>'m 60yo man &amp; old school like marine admiral 😄 . 've never heard one piece anime , fact 'm anime . , complete experience , bloody addictive . main character optimism &amp; acceptance others pursuing dream regardless whether agrees indeed 're dream enemy thing beauty . kid attitude fellow man admirable &amp; attitude toward pursuing life serve lesson u . character come together nicely , different unique problem &amp; gift - gel nicely . ca n't put finger loved show , . 's quirky , 's violent , 's gentle , 's battle , friendship , dream , courage , fear &amp; loyalty , &amp; done meaningfully . 's also beautiful look . hope season 2. deserves continue . bravo 👏</td>\n",
       "      <td>kind show . loved .</td>\n",
       "      <td>0.9827</td>\n",
       "      <td>0.8074</td>\n",
       "    </tr>\n",
       "    <tr>\n",
       "      <th>2</th>\n",
       "      <td>I'm Shocked By How Good This Is...</td>\n",
       "      <td>Every live action anime that I've briefly seen has been nothing short of a disaster, and considering how many times Netflix tried to bring Anime's to life I thought One Piece was about to receive the same fate. But to my surprise I was wrong.\\n\\nJust 3 episodes in you could tell the care the creators put into this show. The set designs, the action sequences, and even to my surprise the actors bring so much.\\n\\nIñaki Godoy as Luffy is to my surprise holding his own in this role. Luffy is such a love or hate character and imagining a live action for him seems like a recipe for disaster. But Godoy somehow is able to maintain the goofiness within the character without making him unbearable, and that deserves some applause. I think Emily Rudd, Mackenyu, Morgan Davies, and Jacob Romero are great as well.\\n\\nAnd as someone who's only watched the first 10-15 episodes of One Piece, I love the route they went with Buggy in episode 2 compared to the beginning of the Anime/Manga. Jeff Ward made him extremely terrifying in the show and the way they used the crowd as prisoners, forcing them to clap was slightly terrifying.\\n\\nI wasn't even sure if they'd do the iconic Shanks moment early on for budget reasons, but they did it and it was actually great. Not to say everything is perfect because at times the show can get a little too cartoony for me, but my low expectations were blown away. I'm glad to see the awful live action anime stereotype take a hit and potentially make room for other people who aspire to bring an anime to life, and even with a very small chance, potentially do it justice like we saw here.\\n\\nIt's only season 1 and there is plenty of room for error, but I'm glad to say I've been proven wrong and I actually have hope for this adaptation.</td>\n",
       "      <td>1 September 2023</td>\n",
       "      <td>9.0</td>\n",
       "      <td>every live action anime 've briefly seen nothing short disaster , considering many time netflix tried bring anime 's life thought one piece receive fate . surprise wrong . 3 episode could tell care creator put show . set design , action sequence , even surprise actor bring much . iñaki godoy luffy surprise holding role . luffy love hate character imagining live action seems like recipe disaster . godoy somehow able maintain goofiness within character without making unbearable , deserves applause . think emily rudd , mackenyu , morgan davy , jacob romero great well . someone 's watched first 10-15 episode one piece , love route went buggy episode 2 compared beginning anime/manga . jeff ward made extremely terrifying show way used crowd prisoner , forcing clap slightly terrifying . n't even sure 'd iconic shank moment early budget reason , actually great . say everything perfect time show get little cartoony , low expectation blown away . 'm glad see awful live action anime stereotype take hit potentially make room people aspire bring anime life , even small chance , potentially justice like saw . 's season 1 plenty room error , 'm glad say 've proven wrong actually hope adaptation .</td>\n",
       "      <td>'m shocked good ...</td>\n",
       "      <td>0.9786</td>\n",
       "      <td>0.1531</td>\n",
       "    </tr>\n",
       "    <tr>\n",
       "      <th>3</th>\n",
       "      <td>See Netflix?? You CAN do it...</td>\n",
       "      <td>This is bar none one of the best live-action adaptions to any animated source material I have ever seen. I have been a diehard One Piece fan since I was a preteen; it was one of the first manga I ever read and I still watch it to this day. Admittedly, when I first saw a remake was in the works and saw the promos for it, I could feel myself almost instinctively getting nauseous. I saw the characters and bauked at the mere aesthetics of the show, let alone the other details. My heart sank into a pit as I pleaded pitifully in my head, \"Please, PLEASE don't touch this one. I still haven't recovered from the massacring of Avatar TLA, Dragonball Evolution (I know those weren't Netflix, but still), Death Note, AND FullMetal Alchemist, please don't destroy something else from my childhood just for the sake of playing pretend and trying to get subscriptions .\"\\n\\nBut lo and behold, I watched the trailer for it and every previously described feeling of dread in me was evaporated by a sudden rush of euphoria and excitement. I had goosebumps on my goosebumps and my heart was in my throat. I immediately resubscribed to Netflix and began watching and MY-GOSH, guys.\\n\\nI will restate that this is the best adaption of any source material I've ever seen. I will warn you the more \"human\" looking rendition of the characters takes some getting used to, but my gosh, it's all there - the humor, the action, the heart, and barely a single editorial or filmographic choice is wasted. You're not going to find a cut-by-cut (no pun intended, Zoro) rendition of the original story, but that actually works here and keeps things moving and working in a cohesive way.\\n\\nFor first time fans or devoted veterans like me, you could not ask for a better introduction to an anime series in this medium. Please give it a chance.</td>\n",
       "      <td>4 September 2023</td>\n",
       "      <td>10.0</td>\n",
       "      <td>bar none one best live-action adaption animated source material ever seen . diehard one piece fan since preteen ; one first manga ever read still watch day . admittedly , first saw remake work saw promos , could feel almost instinctively getting nauseous . saw character bauked mere aesthetic show , let alone detail . heart sank pit pleaded pitifully head , `` please , please n't touch one . still n't recovered massacring avatar tla , dragonball evolution ( know n't netflix , still ) , death note , fullmetal alchemist , please n't destroy something else childhood sake playing pretend trying get subscription . '' lo behold , watched trailer every previously described feeling dread evaporated sudden rush euphoria excitement . goosebump goosebump heart throat . immediately resubscribed netflix began watching my-gosh , guy . restate best adaption source material 've ever seen . warn `` human '' looking rendition character take getting used , gosh , 's - humor , action , heart , barely single editorial filmographic choice wasted . 're going find cut-by-cut ( pun intended , zoro ) rendition original story , actually work keep thing moving working cohesive way . first time fan devoted veteran like , could ask better introduction anime series medium . please give chance .</td>\n",
       "      <td>see netflix ? ? ...</td>\n",
       "      <td>0.9689</td>\n",
       "      <td>0.0000</td>\n",
       "    </tr>\n",
       "    <tr>\n",
       "      <th>4</th>\n",
       "      <td>WE WANT SEASON 2</td>\n",
       "      <td>Being a one piece fan myself, I was a bit insecured about starting the series but boy do I never got off my bed through all these 8 episodes. The Live Adaptation is way beyond my expectations and I seriously cried and laughed along every emotional and comforting moment. NETFLIX PLEASE RELEASE SEASON 2. The portrayal of Monkey D Luffy was perfect as well as other characters. Every Episode had its own main character and the introduction to each and every straw pirate crew was done with utmost respect and love 💕. Can't wait for more pirate crew members to be introduced in the later seasons especially Nico Robin.</td>\n",
       "      <td>31 August 2023</td>\n",
       "      <td>10.0</td>\n",
       "      <td>one piece fan , bit insecured starting series boy never got bed 8 episode . live adaptation way beyond expectation seriously cried laughed along every emotional comforting moment . netflix please release season 2. portrayal monkey luffy perfect well character . every episode main character introduction every straw pirate crew done utmost respect love 💕 . ca n't wait pirate crew member introduced later season especially nico robin .</td>\n",
       "      <td>want season 2</td>\n",
       "      <td>0.9623</td>\n",
       "      <td>0.0772</td>\n",
       "    </tr>\n",
       "    <tr>\n",
       "      <th>...</th>\n",
       "      <td>...</td>\n",
       "      <td>...</td>\n",
       "      <td>...</td>\n",
       "      <td>...</td>\n",
       "      <td>...</td>\n",
       "      <td>...</td>\n",
       "      <td>...</td>\n",
       "      <td>...</td>\n",
       "    </tr>\n",
       "    <tr>\n",
       "      <th>873</th>\n",
       "      <td>Most faithful and high quality adaptation since Lord of the Rings</td>\n",
       "      <td>I haven't written a review in a very long time but as a long-time fan of One Piece and cinematography in general, I had to stop and say: Bravo!\\n\\nAdapting any type of source material to either the big or small screen is an almost impossible endeavor. An attempt that will likely end up in failure in almost every single case, even when the crew and producers care about it.\\n\\nOne piece is a rare exception. A gold nugget. Something I haven't seen since Lord of the Rings. If you are a fan of the original manga today is a day of celebration. Call a couple of friends, buy a giant pizza and go watch it together in the biggest screen you can find.\\n\\nTalk about managing expectations ;).\\n\\nEnjoy!</td>\n",
       "      <td>2 September 2023</td>\n",
       "      <td>10.0</td>\n",
       "      <td>n't written review long time long-time fan one piece cinematography general , stop say : bravo ! adapting type source material either big small screen almost impossible endeavor . attempt likely end failure almost every single case , even crew producer care . one piece rare exception . gold nugget . something n't seen since lord ring . fan original manga today day celebration . call couple friend , buy giant pizza go watch together biggest screen find . talk managing expectation ; ) . enjoy !</td>\n",
       "      <td>faithful high quality adaptation since lord ring</td>\n",
       "      <td>0.8906</td>\n",
       "      <td>0.4404</td>\n",
       "    </tr>\n",
       "    <tr>\n",
       "      <th>874</th>\n",
       "      <td>Me and my son loving it! The best entertaining and exciting show of the year!</td>\n",
       "      <td>This is my first IMDb review.\\n\\nI've watched all 8 episodes in one day together with my 11 years old son and we truly enjoyed from the beginning til the end. We want 2nd season!!!\\n\\nThe series makes several references to the anime. We have in some moments the instrumental of the opening song of the anime. The story is engaging and good, and it's good to watch with your family members. Highly recommended.\\n\\nOverall, its a good adaptation! I was shocked to find myself smiling whenever Godoy's Luffy comes on screen first episode and onward. The casting director did a fantastic job on finding actors to fit the characters as well as, the rest of the supporting cast! The subtle details they've added were a lovely touch to show they truly did their research. Even with the new changes they did, still feels like one piece at the end just in a different format. I didn't put it a full 10 star because there is always room for improvement! Honestly, felt I was a kid again when I discovered one piece watching this, and falling in love with the characters.</td>\n",
       "      <td>1 September 2023</td>\n",
       "      <td>9.0</td>\n",
       "      <td>first imdb review . 've watched 8 episode one day together 11 year old son truly enjoyed beginning til end . want 2nd season ! ! ! series make several reference anime . moment instrumental opening song anime . story engaging good , 's good watch family member . highly recommended . overall , good adaptation ! shocked find smiling whenever godoy 's luffy come screen first episode onward . casting director fantastic job finding actor fit character well , rest supporting cast ! subtle detail 've added lovely touch show truly research . even new change , still feel like one piece end different format . n't put full 10 star always room improvement ! honestly , felt kid discovered one piece watching , falling love character .</td>\n",
       "      <td>son loving ! best entertaining exciting show year !</td>\n",
       "      <td>0.9937</td>\n",
       "      <td>0.9411</td>\n",
       "    </tr>\n",
       "    <tr>\n",
       "      <th>875</th>\n",
       "      <td>A very good adaptation to the famous anime</td>\n",
       "      <td>An absolute gem! This show is a must-watch, and I wholeheartedly recommend it. It easily outshines the mediocre anime adaptation that often fail to do justice to the source material. It's the second-best way to immerse yourself in the captivating world of One Piece, right after the original manga. The series flawlessly captures the essence of Eiichiro Oda's masterpiece, delivering a phenomenal experience. With its exceptional storytelling, rich character development, and meticulous attention to detail, it caters to both newcomers and die-hard fans alike. Whether you're new to the Grand Line or a seasoned pirate aficionado, this show is a treasure trove of entertainment that should not be missed. Now, some might complain about the changes they made such as introducing characters early into the series that normally wouldn't come until future arcs and a few others, but I say those people are f#%king nerds and who gives a sh#$. So set sail on this epic adventure and discover why it's an absolute triumph.</td>\n",
       "      <td>3 September 2023</td>\n",
       "      <td>10.0</td>\n",
       "      <td>absolute gem ! show must-watch , wholeheartedly recommend . easily outshines mediocre anime adaptation often fail justice source material . 's second-best way immerse captivating world one piece , right original manga . series flawlessly capture essence eiichiro oda 's masterpiece , delivering phenomenal experience . exceptional storytelling , rich character development , meticulous attention detail , caters newcomer die-hard fan alike . whether 're new grand line seasoned pirate aficionado , show treasure trove entertainment missed . , might complain change made introducing character early series normally would n't come future arc others , say people f # % king nerd give sh # $ . set sail epic adventure discover 's absolute triumph .</td>\n",
       "      <td>good adaptation famous anime</td>\n",
       "      <td>0.9741</td>\n",
       "      <td>0.4404</td>\n",
       "    </tr>\n",
       "    <tr>\n",
       "      <th>876</th>\n",
       "      <td>This wonderful thing...</td>\n",
       "      <td>I recently dived (no pun intended) into the world of One Piece anime and manga which I had avoided for years due to its length. However, once I gave it a chance, I found myself falling in love with Eiichiro Oda's characters, plot, themes, and the expansive world he created. When I first heard about the live-action adaptation, I was skeptical and expected it to be a failure. Despite my doubts, my heart hoped for its success, even though adapting such a complex source material seemed nearly impossible. One Piece, compared to other popular anime, is not an obvious choice for a successful live-action adaptation.\\n\\nTo my pleasant surprise, I couldn't have been more wrong. This live-action version took a unique approach, yet it managed to capture the essence and heart of the original material. It evoked the feelings of hope, passion, and genuine friendship that we all cherish. The emotional impact and plot twists were delivered effectively, and the character backstories added depth to each member of the cast. The actors, especially the Straw Hat crew, displayed excellent chemistry and did justice to their respective characters. The villains, with Buggy being a standout, were exemplary in their portrayals.\\n\\nSome might argue that the emotional impact was less than that of the anime, possibly because the anime delivered these moments first, somewhat diminishing their impact in the live-action adaptation. Additionally, there were those who disliked the idea of a live-action adaptation from the beginning, making it challenging for them to appreciate it. It can be difficult to overcome such preconceived notions.\\n\\nHowever, as a fan of both anime and TV series, I wholeheartedly recommend the One Piece live-action adaptation. You can truly sense the the heart of the entire team, from the production crew to the cast, in bringing this project to life. After a long, exhausting week at the start of the school year, I am grateful to have a series like this to provide a much-needed mental break and relief from exhaustion. Thank you, Oda, for creating this wonderful thing and for giving me even more reasons to fall deeper in love with your work.\\n\\nPS: Emily Rudd , you are so beautiful as Nami! I am simping for you the whole time! HAHA\\n\\nNow watch it!\\n\\nRating: 9.5/10.</td>\n",
       "      <td>2 September 2023</td>\n",
       "      <td>10.0</td>\n",
       "      <td>recently dived ( pun intended ) world one piece anime manga avoided year due length . however , gave chance , found falling love eiichiro oda 's character , plot , theme , expansive world created . first heard live-action adaptation , skeptical expected failure . despite doubt , heart hoped success , even though adapting complex source material seemed nearly impossible . one piece , compared popular anime , obvious choice successful live-action adaptation . pleasant surprise , could n't wrong . live-action version took unique approach , yet managed capture essence heart original material . evoked feeling hope , passion , genuine friendship cherish . emotional impact plot twist delivered effectively , character backstories added depth member cast . actor , especially straw hat crew , displayed excellent chemistry justice respective character . villain , buggy standout , exemplary portrayal . might argue emotional impact le anime , possibly anime delivered moment first , somewhat diminishing impact live-action adaptation . additionally , disliked idea live-action adaptation beginning , making challenging appreciate . difficult overcome preconceived notion . however , fan anime tv series , wholeheartedly recommend one piece live-action adaptation . truly sense heart entire team , production crew cast , bringing project life . long , exhausting week start school year , grateful series like provide much-needed mental break relief exhaustion . thank , oda , creating wonderful thing giving even reason fall deeper love work . p : emily rudd , beautiful nami ! simping whole time ! haha watch ! rating : 9.5/10 .</td>\n",
       "      <td>wonderful thing ...</td>\n",
       "      <td>0.9969</td>\n",
       "      <td>0.5719</td>\n",
       "    </tr>\n",
       "    <tr>\n",
       "      <th>877</th>\n",
       "      <td>Best adaptation so far</td>\n",
       "      <td>I watched first eposide and I can say they did best they can. Although there are some changes and I think those are due to limitation of adapting diversed story of ONE PIECE. I loved how they casted actor fit the role. It may sound funny to those who have been watching ONE PIECE anime in japanese because of english language but it not bad.i think it will be the great for those who want are not anime fan. Overall it loved it and has my full support.\\n\\n. .\\n\\n. .\\n\\n. .\\n\\n. .\\n\\nP.s I also want support it because I want lot of arc to be adapted or else they might cancel it.so I advice all to watch ONE PEICE great adaptation, okay than ..sayonara....</td>\n",
       "      <td>1 September 2023</td>\n",
       "      <td>9.0</td>\n",
       "      <td>watched first eposide say best . although change think due limitation adapting diversed story one piece . loved casted actor fit role . may sound funny watching one piece anime japanese english language bad.i think great want anime fan . overall loved full support . . . . . . . . . p.s also want support want lot arc adapted else might cancel it.so advice watch one peice great adaptation , okay .. sayonara ....</td>\n",
       "      <td>best adaptation far</td>\n",
       "      <td>0.9860</td>\n",
       "      <td>0.6369</td>\n",
       "    </tr>\n",
       "  </tbody>\n",
       "</table>\n",
       "<p>878 rows × 8 columns</p>\n",
       "</div>"
      ],
      "text/plain": [
       "                                                                             Title  \\\n",
       "0                                        Never seen the anime and still enjoyed it   \n",
       "1                                           Not My Kind of Show. But This I Loved.   \n",
       "2                                               I'm Shocked By How Good This Is...   \n",
       "3                                                   See Netflix?? You CAN do it...   \n",
       "4                                                                 WE WANT SEASON 2   \n",
       "..                                                                             ...   \n",
       "873              Most faithful and high quality adaptation since Lord of the Rings   \n",
       "874  Me and my son loving it! The best entertaining and exciting show of the year!   \n",
       "875                                     A very good adaptation to the famous anime   \n",
       "876                                                        This wonderful thing...   \n",
       "877                                                         Best adaptation so far   \n",
       "\n",
       "                                                                                                                                                                                                                                                                                                                                                                                                                                                                                                                                                                                                                                                                                                                                                                                                                                                                                                                                                                                                                                                                                                                                                                                                                                                                                                                                                                                                                                                                                                                                                                                                                                                                                                                                                                                                                                                                                                                                                                                                                                                                                                                                                                                                                                                                                                                                                                                     Review  \\\n",
       "0                                                                                                                                                                                                                                                                                                                                                                                                                                                                                                                                                                                                                                                                                                                                                                                                                                                                                                                                                                                                                                                                                                                                                                                                                                                                                                                                                                                                                                                                                                                                                                                                                                                                                                                           I have to admit that I've never watched any of the animated show One Piece or even heard about it for that matter. I'm really not a big fan of anime. Then after watching the trailers for this I thought it looked like a show for children. I was wrong. I kept reading about how good this show is and how it's #1 on Netflix so I thought I'd give it a chance. I'm glad I did because I couldn't have been more wrong. This is a show where people of all ages can enjoy. If you can just turn off your brain and watch I promise you'll have a good time. If you're looking for a new show to binge then give One Piece a try. You won't be disappointed!   \n",
       "1                                                                                                                                                                                                                                                                                                                                                                                                                                                                                                                                                                                                                                                                                                                                                                                                                                                                                                                                                                                                                                                                                                                                                                                                                                                                                                                                                                                                             I'm a 60yo man & old school like the The Marine Admiral 😄. I've never heard of One Piece anime, in fact I'm not into anime at all. But this, this was a complete experience, it is bloody addictive.\\n\\nThe main characters optimism & acceptance of others pursuing their dreams regardless of whether or not he agrees with them or indeed they're the dreams of his enemies is a thing of beauty. The kids attitude to his fellow man is admirable & his attitude toward pursuing his own life should serve as a lesson to us all.\\n\\nThe other characters come together nicely too, each different but each with unique problems & gifts - they gel nicely.\\n\\nI can't put my finger on why I loved this show, I just did. It's quirky, it's violent, it's gentle, it's about battles, friendships, dreams, courage, fear & loyalty, & all of it done meaningfully.\\n\\nIt's also beautiful to look at.\\n\\nI hope there is a season 2. It deserves to continue.\\n\\nBravo 👏   \n",
       "2                                                                                                                                                                                                                                                                                                                                                                                                                                                                                                                                              Every live action anime that I've briefly seen has been nothing short of a disaster, and considering how many times Netflix tried to bring Anime's to life I thought One Piece was about to receive the same fate. But to my surprise I was wrong.\\n\\nJust 3 episodes in you could tell the care the creators put into this show. The set designs, the action sequences, and even to my surprise the actors bring so much.\\n\\nIñaki Godoy as Luffy is to my surprise holding his own in this role. Luffy is such a love or hate character and imagining a live action for him seems like a recipe for disaster. But Godoy somehow is able to maintain the goofiness within the character without making him unbearable, and that deserves some applause. I think Emily Rudd, Mackenyu, Morgan Davies, and Jacob Romero are great as well.\\n\\nAnd as someone who's only watched the first 10-15 episodes of One Piece, I love the route they went with Buggy in episode 2 compared to the beginning of the Anime/Manga. Jeff Ward made him extremely terrifying in the show and the way they used the crowd as prisoners, forcing them to clap was slightly terrifying.\\n\\nI wasn't even sure if they'd do the iconic Shanks moment early on for budget reasons, but they did it and it was actually great. Not to say everything is perfect because at times the show can get a little too cartoony for me, but my low expectations were blown away. I'm glad to see the awful live action anime stereotype take a hit and potentially make room for other people who aspire to bring an anime to life, and even with a very small chance, potentially do it justice like we saw here.\\n\\nIt's only season 1 and there is plenty of room for error, but I'm glad to say I've been proven wrong and I actually have hope for this adaptation.   \n",
       "3                                                                                                                                                                                                                                                                                                                                                                                                                                                                                                 This is bar none one of the best live-action adaptions to any animated source material I have ever seen. I have been a diehard One Piece fan since I was a preteen; it was one of the first manga I ever read and I still watch it to this day. Admittedly, when I first saw a remake was in the works and saw the promos for it, I could feel myself almost instinctively getting nauseous. I saw the characters and bauked at the mere aesthetics of the show, let alone the other details. My heart sank into a pit as I pleaded pitifully in my head, \"Please, PLEASE don't touch this one. I still haven't recovered from the massacring of Avatar TLA, Dragonball Evolution (I know those weren't Netflix, but still), Death Note, AND FullMetal Alchemist, please don't destroy something else from my childhood just for the sake of playing pretend and trying to get subscriptions .\"\\n\\nBut lo and behold, I watched the trailer for it and every previously described feeling of dread in me was evaporated by a sudden rush of euphoria and excitement. I had goosebumps on my goosebumps and my heart was in my throat. I immediately resubscribed to Netflix and began watching and MY-GOSH, guys.\\n\\nI will restate that this is the best adaption of any source material I've ever seen. I will warn you the more \"human\" looking rendition of the characters takes some getting used to, but my gosh, it's all there - the humor, the action, the heart, and barely a single editorial or filmographic choice is wasted. You're not going to find a cut-by-cut (no pun intended, Zoro) rendition of the original story, but that actually works here and keeps things moving and working in a cohesive way.\\n\\nFor first time fans or devoted veterans like me, you could not ask for a better introduction to an anime series in this medium. Please give it a chance.   \n",
       "4                                                                                                                                                                                                                                                                                                                                                                                                                                                                                                                                                                                                                                                                                                                                                                                                                                                                                                                                                                                                                                                                                                                                                                                                                                                                                                                                                                                                                                                                                                                                                                                                                                                                                                                                                  Being a one piece fan myself, I was a bit insecured about starting the series but boy do I never got off my bed through all these 8 episodes. The Live Adaptation is way beyond my expectations and I seriously cried and laughed along every emotional and comforting moment. NETFLIX PLEASE RELEASE SEASON 2. The portrayal of Monkey D Luffy was perfect as well as other characters. Every Episode had its own main character and the introduction to each and every straw pirate crew was done with utmost respect and love 💕. Can't wait for more pirate crew members to be introduced in the later seasons especially Nico Robin.   \n",
       "..                                                                                                                                                                                                                                                                                                                                                                                                                                                                                                                                                                                                                                                                                                                                                                                                                                                                                                                                                                                                                                                                                                                                                                                                                                                                                                                                                                                                                                                                                                                                                                                                                                                                                                                                                                                                                                                                                                                                                                                                                                                                                                                                                                                                                                                                                                                                                                                      ...   \n",
       "873                                                                                                                                                                                                                                                                                                                                                                                                                                                                                                                                                                                                                                                                                                                                                                                                                                                                                                                                                                                                                                                                                                                                                                                                                                                                                                                                                                                                                                                                                                                                                                                                                                                              I haven't written a review in a very long time but as a long-time fan of One Piece and cinematography in general, I had to stop and say: Bravo!\\n\\nAdapting any type of source material to either the big or small screen is an almost impossible endeavor. An attempt that will likely end up in failure in almost every single case, even when the crew and producers care about it.\\n\\nOne piece is a rare exception. A gold nugget. Something I haven't seen since Lord of the Rings. If you are a fan of the original manga today is a day of celebration. Call a couple of friends, buy a giant pizza and go watch it together in the biggest screen you can find.\\n\\nTalk about managing expectations ;).\\n\\nEnjoy!   \n",
       "874                                                                                                                                                                                                                                                                                                                                                                                                                                                                                                                                                                                                                                                                                                                                                                                                                                                                                                                                                                                                                                                                                                                                                                                                                                                                                    This is my first IMDb review.\\n\\nI've watched all 8 episodes in one day together with my 11 years old son and we truly enjoyed from the beginning til the end. We want 2nd season!!!\\n\\nThe series makes several references to the anime. We have in some moments the instrumental of the opening song of the anime. The story is engaging and good, and it's good to watch with your family members. Highly recommended.\\n\\nOverall, its a good adaptation! I was shocked to find myself smiling whenever Godoy's Luffy comes on screen first episode and onward. The casting director did a fantastic job on finding actors to fit the characters as well as, the rest of the supporting cast! The subtle details they've added were a lovely touch to show they truly did their research. Even with the new changes they did, still feels like one piece at the end just in a different format. I didn't put it a full 10 star because there is always room for improvement! Honestly, felt I was a kid again when I discovered one piece watching this, and falling in love with the characters.   \n",
       "875                                                                                                                                                                                                                                                                                                                                                                                                                                                                                                                                                                                                                                                                                                                                                                                                                                                                                                                                                                                                                                                                                                                                                                                                                                                                                                                                 An absolute gem! This show is a must-watch, and I wholeheartedly recommend it. It easily outshines the mediocre anime adaptation that often fail to do justice to the source material. It's the second-best way to immerse yourself in the captivating world of One Piece, right after the original manga. The series flawlessly captures the essence of Eiichiro Oda's masterpiece, delivering a phenomenal experience. With its exceptional storytelling, rich character development, and meticulous attention to detail, it caters to both newcomers and die-hard fans alike. Whether you're new to the Grand Line or a seasoned pirate aficionado, this show is a treasure trove of entertainment that should not be missed. Now, some might complain about the changes they made such as introducing characters early into the series that normally wouldn't come until future arcs and a few others, but I say those people are f#%king nerds and who gives a sh#$. So set sail on this epic adventure and discover why it's an absolute triumph.   \n",
       "876  I recently dived (no pun intended) into the world of One Piece anime and manga which I had avoided for years due to its length. However, once I gave it a chance, I found myself falling in love with Eiichiro Oda's characters, plot, themes, and the expansive world he created. When I first heard about the live-action adaptation, I was skeptical and expected it to be a failure. Despite my doubts, my heart hoped for its success, even though adapting such a complex source material seemed nearly impossible. One Piece, compared to other popular anime, is not an obvious choice for a successful live-action adaptation.\\n\\nTo my pleasant surprise, I couldn't have been more wrong. This live-action version took a unique approach, yet it managed to capture the essence and heart of the original material. It evoked the feelings of hope, passion, and genuine friendship that we all cherish. The emotional impact and plot twists were delivered effectively, and the character backstories added depth to each member of the cast. The actors, especially the Straw Hat crew, displayed excellent chemistry and did justice to their respective characters. The villains, with Buggy being a standout, were exemplary in their portrayals.\\n\\nSome might argue that the emotional impact was less than that of the anime, possibly because the anime delivered these moments first, somewhat diminishing their impact in the live-action adaptation. Additionally, there were those who disliked the idea of a live-action adaptation from the beginning, making it challenging for them to appreciate it. It can be difficult to overcome such preconceived notions.\\n\\nHowever, as a fan of both anime and TV series, I wholeheartedly recommend the One Piece live-action adaptation. You can truly sense the the heart of the entire team, from the production crew to the cast, in bringing this project to life. After a long, exhausting week at the start of the school year, I am grateful to have a series like this to provide a much-needed mental break and relief from exhaustion. Thank you, Oda, for creating this wonderful thing and for giving me even more reasons to fall deeper in love with your work.\\n\\nPS: Emily Rudd , you are so beautiful as Nami! I am simping for you the whole time! HAHA\\n\\nNow watch it!\\n\\nRating: 9.5/10.   \n",
       "877                                                                                                                                                                                                                                                                                                                                                                                                                                                                                                                                                                                                                                                                                                                                                                                                                                                                                                                                                                                                                                                                                                                                                                                                                                                                                                                                                                                                                                                                                                                                                                                                                                                                                                       I watched first eposide and I can say they did best they can. Although there are some changes and I think those are due to limitation of adapting diversed story of ONE PIECE. I loved how they casted actor fit the role. It may sound funny to those who have been watching ONE PIECE anime in japanese because of english language but it not bad.i think it will be the great for those who want are not anime fan. Overall it loved it and has my full support.\\n\\n. .\\n\\n. .\\n\\n. .\\n\\n. .\\n\\nP.s I also want support it because I want lot of arc to be adapted or else they might cancel it.so I advice all to watch ONE PEICE great adaptation, okay than ..sayonara....   \n",
       "\n",
       "                 Date  Rating  \\\n",
       "0    4 September 2023     8.0   \n",
       "1    4 September 2023     9.0   \n",
       "2    1 September 2023     9.0   \n",
       "3    4 September 2023    10.0   \n",
       "4      31 August 2023    10.0   \n",
       "..                ...     ...   \n",
       "873  2 September 2023    10.0   \n",
       "874  1 September 2023     9.0   \n",
       "875  3 September 2023    10.0   \n",
       "876  2 September 2023    10.0   \n",
       "877  1 September 2023     9.0   \n",
       "\n",
       "                                                                                                                                                                                                                                                                                                                                                                                                                                                                                                                                                                                                                                                                                                                                                                                                                                                                                                                                                                                                                                                                                                                                                                                                                                                                                                                                                                                                                                                                                                                                                                                                                                                                                        ReviewText  \\\n",
       "0                                                                                                                                                                                                                                                                                                                                                                                                                                                                                                                                                                                                                                                                                                                                                                                                                                                                                                                                                                                                                                                                                                                                                                                                                                                                                                          admit 've never watched animated show one piece even heard matter . 'm really big fan anime . watching trailer thought looked like show child . wrong . kept reading good show 's # 1 netflix thought 'd give chance . 'm glad could n't wrong . show people age enjoy . turn brain watch promise 'll good time . 're looking new show binge give one piece try . wo n't disappointed !   \n",
       "1                                                                                                                                                                                                                                                                                                                                                                                                                                                                                                                                                                                                                                                                                                                                                                                                                                                                                                                                                                                                                          'm 60yo man & old school like marine admiral 😄 . 've never heard one piece anime , fact 'm anime . , complete experience , bloody addictive . main character optimism & acceptance others pursuing dream regardless whether agrees indeed 're dream enemy thing beauty . kid attitude fellow man admirable & attitude toward pursuing life serve lesson u . character come together nicely , different unique problem & gift - gel nicely . ca n't put finger loved show , . 's quirky , 's violent , 's gentle , 's battle , friendship , dream , courage , fear & loyalty , & done meaningfully . 's also beautiful look . hope season 2. deserves continue . bravo 👏   \n",
       "2                                                                                                                                                                                                                                                                                                                                                                                                                                                 every live action anime 've briefly seen nothing short disaster , considering many time netflix tried bring anime 's life thought one piece receive fate . surprise wrong . 3 episode could tell care creator put show . set design , action sequence , even surprise actor bring much . iñaki godoy luffy surprise holding role . luffy love hate character imagining live action seems like recipe disaster . godoy somehow able maintain goofiness within character without making unbearable , deserves applause . think emily rudd , mackenyu , morgan davy , jacob romero great well . someone 's watched first 10-15 episode one piece , love route went buggy episode 2 compared beginning anime/manga . jeff ward made extremely terrifying show way used crowd prisoner , forcing clap slightly terrifying . n't even sure 'd iconic shank moment early budget reason , actually great . say everything perfect time show get little cartoony , low expectation blown away . 'm glad see awful live action anime stereotype take hit potentially make room people aspire bring anime life , even small chance , potentially justice like saw . 's season 1 plenty room error , 'm glad say 've proven wrong actually hope adaptation .   \n",
       "3                                                                                                                                                                                                                                                                                                                                                              bar none one best live-action adaption animated source material ever seen . diehard one piece fan since preteen ; one first manga ever read still watch day . admittedly , first saw remake work saw promos , could feel almost instinctively getting nauseous . saw character bauked mere aesthetic show , let alone detail . heart sank pit pleaded pitifully head , `` please , please n't touch one . still n't recovered massacring avatar tla , dragonball evolution ( know n't netflix , still ) , death note , fullmetal alchemist , please n't destroy something else childhood sake playing pretend trying get subscription . '' lo behold , watched trailer every previously described feeling dread evaporated sudden rush euphoria excitement . goosebump goosebump heart throat . immediately resubscribed netflix began watching my-gosh , guy . restate best adaption source material 've ever seen . warn `` human '' looking rendition character take getting used , gosh , 's - humor , action , heart , barely single editorial filmographic choice wasted . 're going find cut-by-cut ( pun intended , zoro ) rendition original story , actually work keep thing moving working cohesive way . first time fan devoted veteran like , could ask better introduction anime series medium . please give chance .   \n",
       "4                                                                                                                                                                                                                                                                                                                                                                                                                                                                                                                                                                                                                                                                                                                                                                                                                                                                                                                                                                                                                                                                                                                                                                                                                                              one piece fan , bit insecured starting series boy never got bed 8 episode . live adaptation way beyond expectation seriously cried laughed along every emotional comforting moment . netflix please release season 2. portrayal monkey luffy perfect well character . every episode main character introduction every straw pirate crew done utmost respect love 💕 . ca n't wait pirate crew member introduced later season especially nico robin .   \n",
       "..                                                                                                                                                                                                                                                                                                                                                                                                                                                                                                                                                                                                                                                                                                                                                                                                                                                                                                                                                                                                                                                                                                                                                                                                                                                                                                                                                                                                                                                                                                                                                                                                                                                                                             ...   \n",
       "873                                                                                                                                                                                                                                                                                                                                                                                                                                                                                                                                                                                                                                                                                                                                                                                                                                                                                                                                                                                                                                                                                                                                                                              n't written review long time long-time fan one piece cinematography general , stop say : bravo ! adapting type source material either big small screen almost impossible endeavor . attempt likely end failure almost every single case , even crew producer care . one piece rare exception . gold nugget . something n't seen since lord ring . fan original manga today day celebration . call couple friend , buy giant pizza go watch together biggest screen find . talk managing expectation ; ) . enjoy !   \n",
       "874                                                                                                                                                                                                                                                                                                                                                                                                                                                                                                                                                                                                                                                                                                                                                                                                                                                                                                                                      first imdb review . 've watched 8 episode one day together 11 year old son truly enjoyed beginning til end . want 2nd season ! ! ! series make several reference anime . moment instrumental opening song anime . story engaging good , 's good watch family member . highly recommended . overall , good adaptation ! shocked find smiling whenever godoy 's luffy come screen first episode onward . casting director fantastic job finding actor fit character well , rest supporting cast ! subtle detail 've added lovely touch show truly research . even new change , still feel like one piece end different format . n't put full 10 star always room improvement ! honestly , felt kid discovered one piece watching , falling love character .   \n",
       "875                                                                                                                                                                                                                                                                                                                                                                                                                                                                                                                                                                                                                                                                                                                                                                                                                                                                                                                       absolute gem ! show must-watch , wholeheartedly recommend . easily outshines mediocre anime adaptation often fail justice source material . 's second-best way immerse captivating world one piece , right original manga . series flawlessly capture essence eiichiro oda 's masterpiece , delivering phenomenal experience . exceptional storytelling , rich character development , meticulous attention detail , caters newcomer die-hard fan alike . whether 're new grand line seasoned pirate aficionado , show treasure trove entertainment missed . , might complain change made introducing character early series normally would n't come future arc others , say people f # % king nerd give sh # $ . set sail epic adventure discover 's absolute triumph .   \n",
       "876  recently dived ( pun intended ) world one piece anime manga avoided year due length . however , gave chance , found falling love eiichiro oda 's character , plot , theme , expansive world created . first heard live-action adaptation , skeptical expected failure . despite doubt , heart hoped success , even though adapting complex source material seemed nearly impossible . one piece , compared popular anime , obvious choice successful live-action adaptation . pleasant surprise , could n't wrong . live-action version took unique approach , yet managed capture essence heart original material . evoked feeling hope , passion , genuine friendship cherish . emotional impact plot twist delivered effectively , character backstories added depth member cast . actor , especially straw hat crew , displayed excellent chemistry justice respective character . villain , buggy standout , exemplary portrayal . might argue emotional impact le anime , possibly anime delivered moment first , somewhat diminishing impact live-action adaptation . additionally , disliked idea live-action adaptation beginning , making challenging appreciate . difficult overcome preconceived notion . however , fan anime tv series , wholeheartedly recommend one piece live-action adaptation . truly sense heart entire team , production crew cast , bringing project life . long , exhausting week start school year , grateful series like provide much-needed mental break relief exhaustion . thank , oda , creating wonderful thing giving even reason fall deeper love work . p : emily rudd , beautiful nami ! simping whole time ! haha watch ! rating : 9.5/10 .   \n",
       "877                                                                                                                                                                                                                                                                                                                                                                                                                                                                                                                                                                                                                                                                                                                                                                                                                                                                                                                                                                                                                                                                                                                                                                                                                                                                  watched first eposide say best . although change think due limitation adapting diversed story one piece . loved casted actor fit role . may sound funny watching one piece anime japanese english language bad.i think great want anime fan . overall loved full support . . . . . . . . . p.s also want support want lot arc adapted else might cancel it.so advice watch one peice great adaptation , okay .. sayonara ....   \n",
       "\n",
       "                                               TitleText  ReviewSentiment  \\\n",
       "0                         never seen anime still enjoyed           0.9511   \n",
       "1                                    kind show . loved .           0.9827   \n",
       "2                                    'm shocked good ...           0.9786   \n",
       "3                                    see netflix ? ? ...           0.9689   \n",
       "4                                          want season 2           0.9623   \n",
       "..                                                   ...              ...   \n",
       "873     faithful high quality adaptation since lord ring           0.8906   \n",
       "874  son loving ! best entertaining exciting show year !           0.9937   \n",
       "875                         good adaptation famous anime           0.9741   \n",
       "876                                  wonderful thing ...           0.9969   \n",
       "877                                  best adaptation far           0.9860   \n",
       "\n",
       "     TitleSentiment  \n",
       "0            0.5106  \n",
       "1            0.8074  \n",
       "2            0.1531  \n",
       "3            0.0000  \n",
       "4            0.0772  \n",
       "..              ...  \n",
       "873          0.4404  \n",
       "874          0.9411  \n",
       "875          0.4404  \n",
       "876          0.5719  \n",
       "877          0.6369  \n",
       "\n",
       "[878 rows x 8 columns]"
      ]
     },
     "metadata": {},
     "output_type": "display_data"
    }
   ],
   "source": [
    "display(df)"
   ]
  },
  {
   "cell_type": "markdown",
   "id": "8952952e-97f5-40b9-b5d2-4dd94f2a9df0",
   "metadata": {},
   "source": [
    "### Paso 6. Prepare un dataframe con las columnas originales + las columnas creadas previamente, tendrían que haber 8 columnas, 3 de ellas deben ser numéricas (incluyendo \"Rating\")."
   ]
  },
  {
   "cell_type": "code",
   "execution_count": 23,
   "id": "20113532-083a-4fbb-9bed-7fb0ea3f235e",
   "metadata": {},
   "outputs": [],
   "source": [
    "df_n = df[['Date', 'Review', 'Title', 'ReviewText', 'TitleText', 'Rating', 'ReviewSentiment', 'TitleSentiment']]"
   ]
  },
  {
   "cell_type": "code",
   "execution_count": 25,
   "id": "51e37371-d6e6-476d-a828-1421a070cc48",
   "metadata": {},
   "outputs": [
    {
     "data": {
      "text/html": [
       "<div>\n",
       "<style scoped>\n",
       "    .dataframe tbody tr th:only-of-type {\n",
       "        vertical-align: middle;\n",
       "    }\n",
       "\n",
       "    .dataframe tbody tr th {\n",
       "        vertical-align: top;\n",
       "    }\n",
       "\n",
       "    .dataframe thead th {\n",
       "        text-align: right;\n",
       "    }\n",
       "</style>\n",
       "<table border=\"1\" class=\"dataframe\">\n",
       "  <thead>\n",
       "    <tr style=\"text-align: right;\">\n",
       "      <th></th>\n",
       "      <th>Date</th>\n",
       "      <th>Review</th>\n",
       "      <th>Title</th>\n",
       "      <th>ReviewText</th>\n",
       "      <th>TitleText</th>\n",
       "      <th>Rating</th>\n",
       "      <th>ReviewSentiment</th>\n",
       "      <th>TitleSentiment</th>\n",
       "    </tr>\n",
       "  </thead>\n",
       "  <tbody>\n",
       "    <tr>\n",
       "      <th>0</th>\n",
       "      <td>4 September 2023</td>\n",
       "      <td>I have to admit that I've never watched any of the animated show One Piece or even heard about it for that matter. I'm really not a big fan of anime. Then after watching the trailers for this I thought it looked like a show for children. I was wrong. I kept reading about how good this show is and how it's #1 on Netflix so I thought I'd give it a chance. I'm glad I did because I couldn't have been more wrong. This is a show where people of all ages can enjoy. If you can just turn off your brain and watch I promise you'll have a good time. If you're looking for a new show to binge then give One Piece a try. You won't be disappointed!</td>\n",
       "      <td>Never seen the anime and still enjoyed it</td>\n",
       "      <td>admit 've never watched animated show one piece even heard matter . 'm really big fan anime . watching trailer thought looked like show child . wrong . kept reading good show 's # 1 netflix thought 'd give chance . 'm glad could n't wrong . show people age enjoy . turn brain watch promise 'll good time . 're looking new show binge give one piece try . wo n't disappointed !</td>\n",
       "      <td>never seen anime still enjoyed</td>\n",
       "      <td>8.0</td>\n",
       "      <td>0.9511</td>\n",
       "      <td>0.5106</td>\n",
       "    </tr>\n",
       "    <tr>\n",
       "      <th>1</th>\n",
       "      <td>4 September 2023</td>\n",
       "      <td>I'm a 60yo man &amp; old school like the The Marine Admiral 😄. I've never heard of One Piece anime, in fact I'm not into anime at all. But this, this was a complete experience, it is bloody addictive.\\n\\nThe main characters optimism &amp; acceptance of others pursuing their dreams regardless of whether or not he agrees with them or indeed they're the dreams of his enemies is a thing of beauty. The kids attitude to his fellow man is admirable &amp; his attitude toward pursuing his own life should serve as a lesson to us all.\\n\\nThe other characters come together nicely too, each different but each with unique problems &amp; gifts - they gel nicely.\\n\\nI can't put my finger on why I loved this show, I just did. It's quirky, it's violent, it's gentle, it's about battles, friendships, dreams, courage, fear &amp; loyalty, &amp; all of it done meaningfully.\\n\\nIt's also beautiful to look at.\\n\\nI hope there is a season 2. It deserves to continue.\\n\\nBravo 👏</td>\n",
       "      <td>Not My Kind of Show. But This I Loved.</td>\n",
       "      <td>'m 60yo man &amp; old school like marine admiral 😄 . 've never heard one piece anime , fact 'm anime . , complete experience , bloody addictive . main character optimism &amp; acceptance others pursuing dream regardless whether agrees indeed 're dream enemy thing beauty . kid attitude fellow man admirable &amp; attitude toward pursuing life serve lesson u . character come together nicely , different unique problem &amp; gift - gel nicely . ca n't put finger loved show , . 's quirky , 's violent , 's gentle , 's battle , friendship , dream , courage , fear &amp; loyalty , &amp; done meaningfully . 's also beautiful look . hope season 2. deserves continue . bravo 👏</td>\n",
       "      <td>kind show . loved .</td>\n",
       "      <td>9.0</td>\n",
       "      <td>0.9827</td>\n",
       "      <td>0.8074</td>\n",
       "    </tr>\n",
       "    <tr>\n",
       "      <th>2</th>\n",
       "      <td>1 September 2023</td>\n",
       "      <td>Every live action anime that I've briefly seen has been nothing short of a disaster, and considering how many times Netflix tried to bring Anime's to life I thought One Piece was about to receive the same fate. But to my surprise I was wrong.\\n\\nJust 3 episodes in you could tell the care the creators put into this show. The set designs, the action sequences, and even to my surprise the actors bring so much.\\n\\nIñaki Godoy as Luffy is to my surprise holding his own in this role. Luffy is such a love or hate character and imagining a live action for him seems like a recipe for disaster. But Godoy somehow is able to maintain the goofiness within the character without making him unbearable, and that deserves some applause. I think Emily Rudd, Mackenyu, Morgan Davies, and Jacob Romero are great as well.\\n\\nAnd as someone who's only watched the first 10-15 episodes of One Piece, I love the route they went with Buggy in episode 2 compared to the beginning of the Anime/Manga. Jeff Ward made him extremely terrifying in the show and the way they used the crowd as prisoners, forcing them to clap was slightly terrifying.\\n\\nI wasn't even sure if they'd do the iconic Shanks moment early on for budget reasons, but they did it and it was actually great. Not to say everything is perfect because at times the show can get a little too cartoony for me, but my low expectations were blown away. I'm glad to see the awful live action anime stereotype take a hit and potentially make room for other people who aspire to bring an anime to life, and even with a very small chance, potentially do it justice like we saw here.\\n\\nIt's only season 1 and there is plenty of room for error, but I'm glad to say I've been proven wrong and I actually have hope for this adaptation.</td>\n",
       "      <td>I'm Shocked By How Good This Is...</td>\n",
       "      <td>every live action anime 've briefly seen nothing short disaster , considering many time netflix tried bring anime 's life thought one piece receive fate . surprise wrong . 3 episode could tell care creator put show . set design , action sequence , even surprise actor bring much . iñaki godoy luffy surprise holding role . luffy love hate character imagining live action seems like recipe disaster . godoy somehow able maintain goofiness within character without making unbearable , deserves applause . think emily rudd , mackenyu , morgan davy , jacob romero great well . someone 's watched first 10-15 episode one piece , love route went buggy episode 2 compared beginning anime/manga . jeff ward made extremely terrifying show way used crowd prisoner , forcing clap slightly terrifying . n't even sure 'd iconic shank moment early budget reason , actually great . say everything perfect time show get little cartoony , low expectation blown away . 'm glad see awful live action anime stereotype take hit potentially make room people aspire bring anime life , even small chance , potentially justice like saw . 's season 1 plenty room error , 'm glad say 've proven wrong actually hope adaptation .</td>\n",
       "      <td>'m shocked good ...</td>\n",
       "      <td>9.0</td>\n",
       "      <td>0.9786</td>\n",
       "      <td>0.1531</td>\n",
       "    </tr>\n",
       "    <tr>\n",
       "      <th>3</th>\n",
       "      <td>4 September 2023</td>\n",
       "      <td>This is bar none one of the best live-action adaptions to any animated source material I have ever seen. I have been a diehard One Piece fan since I was a preteen; it was one of the first manga I ever read and I still watch it to this day. Admittedly, when I first saw a remake was in the works and saw the promos for it, I could feel myself almost instinctively getting nauseous. I saw the characters and bauked at the mere aesthetics of the show, let alone the other details. My heart sank into a pit as I pleaded pitifully in my head, \"Please, PLEASE don't touch this one. I still haven't recovered from the massacring of Avatar TLA, Dragonball Evolution (I know those weren't Netflix, but still), Death Note, AND FullMetal Alchemist, please don't destroy something else from my childhood just for the sake of playing pretend and trying to get subscriptions .\"\\n\\nBut lo and behold, I watched the trailer for it and every previously described feeling of dread in me was evaporated by a sudden rush of euphoria and excitement. I had goosebumps on my goosebumps and my heart was in my throat. I immediately resubscribed to Netflix and began watching and MY-GOSH, guys.\\n\\nI will restate that this is the best adaption of any source material I've ever seen. I will warn you the more \"human\" looking rendition of the characters takes some getting used to, but my gosh, it's all there - the humor, the action, the heart, and barely a single editorial or filmographic choice is wasted. You're not going to find a cut-by-cut (no pun intended, Zoro) rendition of the original story, but that actually works here and keeps things moving and working in a cohesive way.\\n\\nFor first time fans or devoted veterans like me, you could not ask for a better introduction to an anime series in this medium. Please give it a chance.</td>\n",
       "      <td>See Netflix?? You CAN do it...</td>\n",
       "      <td>bar none one best live-action adaption animated source material ever seen . diehard one piece fan since preteen ; one first manga ever read still watch day . admittedly , first saw remake work saw promos , could feel almost instinctively getting nauseous . saw character bauked mere aesthetic show , let alone detail . heart sank pit pleaded pitifully head , `` please , please n't touch one . still n't recovered massacring avatar tla , dragonball evolution ( know n't netflix , still ) , death note , fullmetal alchemist , please n't destroy something else childhood sake playing pretend trying get subscription . '' lo behold , watched trailer every previously described feeling dread evaporated sudden rush euphoria excitement . goosebump goosebump heart throat . immediately resubscribed netflix began watching my-gosh , guy . restate best adaption source material 've ever seen . warn `` human '' looking rendition character take getting used , gosh , 's - humor , action , heart , barely single editorial filmographic choice wasted . 're going find cut-by-cut ( pun intended , zoro ) rendition original story , actually work keep thing moving working cohesive way . first time fan devoted veteran like , could ask better introduction anime series medium . please give chance .</td>\n",
       "      <td>see netflix ? ? ...</td>\n",
       "      <td>10.0</td>\n",
       "      <td>0.9689</td>\n",
       "      <td>0.0000</td>\n",
       "    </tr>\n",
       "    <tr>\n",
       "      <th>4</th>\n",
       "      <td>31 August 2023</td>\n",
       "      <td>Being a one piece fan myself, I was a bit insecured about starting the series but boy do I never got off my bed through all these 8 episodes. The Live Adaptation is way beyond my expectations and I seriously cried and laughed along every emotional and comforting moment. NETFLIX PLEASE RELEASE SEASON 2. The portrayal of Monkey D Luffy was perfect as well as other characters. Every Episode had its own main character and the introduction to each and every straw pirate crew was done with utmost respect and love 💕. Can't wait for more pirate crew members to be introduced in the later seasons especially Nico Robin.</td>\n",
       "      <td>WE WANT SEASON 2</td>\n",
       "      <td>one piece fan , bit insecured starting series boy never got bed 8 episode . live adaptation way beyond expectation seriously cried laughed along every emotional comforting moment . netflix please release season 2. portrayal monkey luffy perfect well character . every episode main character introduction every straw pirate crew done utmost respect love 💕 . ca n't wait pirate crew member introduced later season especially nico robin .</td>\n",
       "      <td>want season 2</td>\n",
       "      <td>10.0</td>\n",
       "      <td>0.9623</td>\n",
       "      <td>0.0772</td>\n",
       "    </tr>\n",
       "  </tbody>\n",
       "</table>\n",
       "</div>"
      ],
      "text/plain": [
       "               Date  \\\n",
       "0  4 September 2023   \n",
       "1  4 September 2023   \n",
       "2  1 September 2023   \n",
       "3  4 September 2023   \n",
       "4    31 August 2023   \n",
       "\n",
       "                                                                                                                                                                                                                                                                                                                                                                                                                                                                                                                                                                                                                                                                                                                                                                                                                                                                                                                                                                                                                                                                                                                                                                                                                                                                                                                                                                                                                                                                                                                                                                                                                                                                                                                                                                                                                                                                                      Review  \\\n",
       "0                                                                                                                                                                                                                                                                                                                                                                                                                                                                                                                                                                                                                                                                                                                                                                                                                                                                                                                                                                                                                                                                                                                                                                                                                            I have to admit that I've never watched any of the animated show One Piece or even heard about it for that matter. I'm really not a big fan of anime. Then after watching the trailers for this I thought it looked like a show for children. I was wrong. I kept reading about how good this show is and how it's #1 on Netflix so I thought I'd give it a chance. I'm glad I did because I couldn't have been more wrong. This is a show where people of all ages can enjoy. If you can just turn off your brain and watch I promise you'll have a good time. If you're looking for a new show to binge then give One Piece a try. You won't be disappointed!   \n",
       "1                                                                                                                                                                                                                                                                                                                                                                                                                                                                                                                                                                                                                                                                                                                                                                                                                                                                                                              I'm a 60yo man & old school like the The Marine Admiral 😄. I've never heard of One Piece anime, in fact I'm not into anime at all. But this, this was a complete experience, it is bloody addictive.\\n\\nThe main characters optimism & acceptance of others pursuing their dreams regardless of whether or not he agrees with them or indeed they're the dreams of his enemies is a thing of beauty. The kids attitude to his fellow man is admirable & his attitude toward pursuing his own life should serve as a lesson to us all.\\n\\nThe other characters come together nicely too, each different but each with unique problems & gifts - they gel nicely.\\n\\nI can't put my finger on why I loved this show, I just did. It's quirky, it's violent, it's gentle, it's about battles, friendships, dreams, courage, fear & loyalty, & all of it done meaningfully.\\n\\nIt's also beautiful to look at.\\n\\nI hope there is a season 2. It deserves to continue.\\n\\nBravo 👏   \n",
       "2                                               Every live action anime that I've briefly seen has been nothing short of a disaster, and considering how many times Netflix tried to bring Anime's to life I thought One Piece was about to receive the same fate. But to my surprise I was wrong.\\n\\nJust 3 episodes in you could tell the care the creators put into this show. The set designs, the action sequences, and even to my surprise the actors bring so much.\\n\\nIñaki Godoy as Luffy is to my surprise holding his own in this role. Luffy is such a love or hate character and imagining a live action for him seems like a recipe for disaster. But Godoy somehow is able to maintain the goofiness within the character without making him unbearable, and that deserves some applause. I think Emily Rudd, Mackenyu, Morgan Davies, and Jacob Romero are great as well.\\n\\nAnd as someone who's only watched the first 10-15 episodes of One Piece, I love the route they went with Buggy in episode 2 compared to the beginning of the Anime/Manga. Jeff Ward made him extremely terrifying in the show and the way they used the crowd as prisoners, forcing them to clap was slightly terrifying.\\n\\nI wasn't even sure if they'd do the iconic Shanks moment early on for budget reasons, but they did it and it was actually great. Not to say everything is perfect because at times the show can get a little too cartoony for me, but my low expectations were blown away. I'm glad to see the awful live action anime stereotype take a hit and potentially make room for other people who aspire to bring an anime to life, and even with a very small chance, potentially do it justice like we saw here.\\n\\nIt's only season 1 and there is plenty of room for error, but I'm glad to say I've been proven wrong and I actually have hope for this adaptation.   \n",
       "3  This is bar none one of the best live-action adaptions to any animated source material I have ever seen. I have been a diehard One Piece fan since I was a preteen; it was one of the first manga I ever read and I still watch it to this day. Admittedly, when I first saw a remake was in the works and saw the promos for it, I could feel myself almost instinctively getting nauseous. I saw the characters and bauked at the mere aesthetics of the show, let alone the other details. My heart sank into a pit as I pleaded pitifully in my head, \"Please, PLEASE don't touch this one. I still haven't recovered from the massacring of Avatar TLA, Dragonball Evolution (I know those weren't Netflix, but still), Death Note, AND FullMetal Alchemist, please don't destroy something else from my childhood just for the sake of playing pretend and trying to get subscriptions .\"\\n\\nBut lo and behold, I watched the trailer for it and every previously described feeling of dread in me was evaporated by a sudden rush of euphoria and excitement. I had goosebumps on my goosebumps and my heart was in my throat. I immediately resubscribed to Netflix and began watching and MY-GOSH, guys.\\n\\nI will restate that this is the best adaption of any source material I've ever seen. I will warn you the more \"human\" looking rendition of the characters takes some getting used to, but my gosh, it's all there - the humor, the action, the heart, and barely a single editorial or filmographic choice is wasted. You're not going to find a cut-by-cut (no pun intended, Zoro) rendition of the original story, but that actually works here and keeps things moving and working in a cohesive way.\\n\\nFor first time fans or devoted veterans like me, you could not ask for a better introduction to an anime series in this medium. Please give it a chance.   \n",
       "4                                                                                                                                                                                                                                                                                                                                                                                                                                                                                                                                                                                                                                                                                                                                                                                                                                                                                                                                                                                                                                                                                                                                                                                                                                                   Being a one piece fan myself, I was a bit insecured about starting the series but boy do I never got off my bed through all these 8 episodes. The Live Adaptation is way beyond my expectations and I seriously cried and laughed along every emotional and comforting moment. NETFLIX PLEASE RELEASE SEASON 2. The portrayal of Monkey D Luffy was perfect as well as other characters. Every Episode had its own main character and the introduction to each and every straw pirate crew was done with utmost respect and love 💕. Can't wait for more pirate crew members to be introduced in the later seasons especially Nico Robin.   \n",
       "\n",
       "                                       Title  \\\n",
       "0  Never seen the anime and still enjoyed it   \n",
       "1     Not My Kind of Show. But This I Loved.   \n",
       "2         I'm Shocked By How Good This Is...   \n",
       "3             See Netflix?? You CAN do it...   \n",
       "4                           WE WANT SEASON 2   \n",
       "\n",
       "                                                                                                                                                                                                                                                                                                                                                                                                                                                                                                                                                                                                                                                                                                                                                                                                                                                                                                                                                                                                                                                                                                                                                                                                                                                                                                                            ReviewText  \\\n",
       "0                                                                                                                                                                                                                                                                                                                                                                                                                                                                                                                                                                                                                                                                                                                                                                                                                                                                                                                                              admit 've never watched animated show one piece even heard matter . 'm really big fan anime . watching trailer thought looked like show child . wrong . kept reading good show 's # 1 netflix thought 'd give chance . 'm glad could n't wrong . show people age enjoy . turn brain watch promise 'll good time . 're looking new show binge give one piece try . wo n't disappointed !   \n",
       "1                                                                                                                                                                                                                                                                                                                                                                                                                                                                                                                                                                                                                                                              'm 60yo man & old school like marine admiral 😄 . 've never heard one piece anime , fact 'm anime . , complete experience , bloody addictive . main character optimism & acceptance others pursuing dream regardless whether agrees indeed 're dream enemy thing beauty . kid attitude fellow man admirable & attitude toward pursuing life serve lesson u . character come together nicely , different unique problem & gift - gel nicely . ca n't put finger loved show , . 's quirky , 's violent , 's gentle , 's battle , friendship , dream , courage , fear & loyalty , & done meaningfully . 's also beautiful look . hope season 2. deserves continue . bravo 👏   \n",
       "2                                                                                     every live action anime 've briefly seen nothing short disaster , considering many time netflix tried bring anime 's life thought one piece receive fate . surprise wrong . 3 episode could tell care creator put show . set design , action sequence , even surprise actor bring much . iñaki godoy luffy surprise holding role . luffy love hate character imagining live action seems like recipe disaster . godoy somehow able maintain goofiness within character without making unbearable , deserves applause . think emily rudd , mackenyu , morgan davy , jacob romero great well . someone 's watched first 10-15 episode one piece , love route went buggy episode 2 compared beginning anime/manga . jeff ward made extremely terrifying show way used crowd prisoner , forcing clap slightly terrifying . n't even sure 'd iconic shank moment early budget reason , actually great . say everything perfect time show get little cartoony , low expectation blown away . 'm glad see awful live action anime stereotype take hit potentially make room people aspire bring anime life , even small chance , potentially justice like saw . 's season 1 plenty room error , 'm glad say 've proven wrong actually hope adaptation .   \n",
       "3  bar none one best live-action adaption animated source material ever seen . diehard one piece fan since preteen ; one first manga ever read still watch day . admittedly , first saw remake work saw promos , could feel almost instinctively getting nauseous . saw character bauked mere aesthetic show , let alone detail . heart sank pit pleaded pitifully head , `` please , please n't touch one . still n't recovered massacring avatar tla , dragonball evolution ( know n't netflix , still ) , death note , fullmetal alchemist , please n't destroy something else childhood sake playing pretend trying get subscription . '' lo behold , watched trailer every previously described feeling dread evaporated sudden rush euphoria excitement . goosebump goosebump heart throat . immediately resubscribed netflix began watching my-gosh , guy . restate best adaption source material 've ever seen . warn `` human '' looking rendition character take getting used , gosh , 's - humor , action , heart , barely single editorial filmographic choice wasted . 're going find cut-by-cut ( pun intended , zoro ) rendition original story , actually work keep thing moving working cohesive way . first time fan devoted veteran like , could ask better introduction anime series medium . please give chance .   \n",
       "4                                                                                                                                                                                                                                                                                                                                                                                                                                                                                                                                                                                                                                                                                                                                                                                                                                                                                  one piece fan , bit insecured starting series boy never got bed 8 episode . live adaptation way beyond expectation seriously cried laughed along every emotional comforting moment . netflix please release season 2. portrayal monkey luffy perfect well character . every episode main character introduction every straw pirate crew done utmost respect love 💕 . ca n't wait pirate crew member introduced later season especially nico robin .   \n",
       "\n",
       "                        TitleText  Rating  ReviewSentiment  TitleSentiment  \n",
       "0  never seen anime still enjoyed     8.0           0.9511          0.5106  \n",
       "1             kind show . loved .     9.0           0.9827          0.8074  \n",
       "2             'm shocked good ...     9.0           0.9786          0.1531  \n",
       "3             see netflix ? ? ...    10.0           0.9689          0.0000  \n",
       "4                   want season 2    10.0           0.9623          0.0772  "
      ]
     },
     "metadata": {},
     "output_type": "display_data"
    }
   ],
   "source": [
    "display(df_n.head())"
   ]
  },
  {
   "cell_type": "markdown",
   "id": "a73dd75f-19b7-4c45-aace-f39c7069ce4a",
   "metadata": {},
   "source": [
    "## ETAPA 3: MACHINE LEARNING."
   ]
  },
  {
   "cell_type": "markdown",
   "id": "52b62fb5-9448-422f-8af6-06db6bb76b1f",
   "metadata": {},
   "source": [
    "### Paso 1. Asigne a la variable X las columnas numéricas menos \"Rating\"; asigne a la variable y la columna \"Rating\", seleccione únicamente las filas sin datos nulos (no elimine ni trate las filas con datos nulos, esas se usarán para predecir)"
   ]
  },
  {
   "cell_type": "code",
   "execution_count": 27,
   "id": "d1b5e7d7-e7f8-4554-8e48-313df22839b2",
   "metadata": {},
   "outputs": [],
   "source": [
    "Y = df_n['Rating'].dropna()"
   ]
  },
  {
   "cell_type": "code",
   "execution_count": 30,
   "id": "c859f282-b403-403e-a9db-400f77badcfc",
   "metadata": {},
   "outputs": [],
   "source": [
    "X = df_n[df_n.index.isin(Y.index)][['ReviewSentiment', 'TitleSentiment']]"
   ]
  },
  {
   "cell_type": "code",
   "execution_count": 31,
   "id": "41869c13-38a0-401d-8f02-8f3acbf1a534",
   "metadata": {},
   "outputs": [
    {
     "name": "stdout",
     "output_type": "stream",
     "text": [
      "<class 'pandas.core.frame.DataFrame'>\n",
      "Index: 870 entries, 0 to 877\n",
      "Data columns (total 2 columns):\n",
      " #   Column           Non-Null Count  Dtype  \n",
      "---  ------           --------------  -----  \n",
      " 0   ReviewSentiment  870 non-null    float64\n",
      " 1   TitleSentiment   870 non-null    float64\n",
      "dtypes: float64(2)\n",
      "memory usage: 20.4 KB\n",
      "None\n"
     ]
    }
   ],
   "source": [
    "print(X.info())"
   ]
  },
  {
   "cell_type": "code",
   "execution_count": 29,
   "id": "d8229425-9253-4f5d-9ccc-57e18c2a5b23",
   "metadata": {},
   "outputs": [
    {
     "name": "stdout",
     "output_type": "stream",
     "text": [
      "<class 'pandas.core.series.Series'>\n",
      "Index: 870 entries, 0 to 877\n",
      "Series name: Rating\n",
      "Non-Null Count  Dtype  \n",
      "--------------  -----  \n",
      "870 non-null    float64\n",
      "dtypes: float64(1)\n",
      "memory usage: 13.6 KB\n",
      "None\n"
     ]
    }
   ],
   "source": [
    "print(Y.info())"
   ]
  },
  {
   "cell_type": "markdown",
   "id": "d87a6bb1-312c-4586-b4ff-fa3a297d3a8e",
   "metadata": {},
   "source": [
    "### Paso 2. Divida en una muestra de entrenamiento y en una muestra de pruebas, estratifique en base a la proporción de la variable objetivo. El tamaño de la muestra para entrenamiento debe ser del 85%. Asigne una semilla para poder reproducir los resultados."
   ]
  },
  {
   "cell_type": "code",
   "execution_count": null,
   "id": "31dd5529-afea-4fe2-9dcf-6cab2db600d3",
   "metadata": {},
   "outputs": [],
   "source": [
    "from sklearn.model_selection import train_test_split"
   ]
  },
  {
   "cell_type": "code",
   "execution_count": null,
   "id": "cf771111-652d-4b5b-9145-db6f00b9cc26",
   "metadata": {},
   "outputs": [],
   "source": [
    "X_train, X_test, Y_train, Y_test = train_test_split(X, Y, test_size=0.15, stratify=Y, random_state=200)"
   ]
  },
  {
   "cell_type": "markdown",
   "id": "3ac22ff9-b50b-454a-9005-e0ef4b289b35",
   "metadata": {},
   "source": [
    "### Paso 3. Entrene los siguientes modelos:"
   ]
  },
  {
   "cell_type": "markdown",
   "id": "13612df0-a0d9-4eb5-aac3-95bd72ce981a",
   "metadata": {},
   "source": [
    "#### - KNN para clasificación"
   ]
  },
  {
   "cell_type": "markdown",
   "id": "5cc23f76-b48c-4591-aab4-85563effe5c6",
   "metadata": {},
   "source": [
    "#### - SVM para clasificación"
   ]
  },
  {
   "cell_type": "markdown",
   "id": "fa36fbb0-bbae-4c33-a1c8-721ec277b9c4",
   "metadata": {},
   "source": [
    "#### - RandomForest para clasificación"
   ]
  },
  {
   "cell_type": "markdown",
   "id": "604221cf-1297-49f3-958c-f7198b497495",
   "metadata": {},
   "source": [
    "### Paso 4. Evalúe el rendimiento de los modelos (puede usar accuracy) creados en el paso previo, muestre las predicciones realizadas y compare con las etiquetas reales."
   ]
  },
  {
   "cell_type": "markdown",
   "id": "3fc49b1e-f5d6-4644-a50c-a6bb3d890c1b",
   "metadata": {},
   "source": [
    "### Paso 5. Debido a que este es un problema de clasificación, pero hay varias clases que son originalmente numéricas, se puede aplicar también una métrica de evaluación para regresión. Aplique el RMSE a las predicciones y las etiquetas reales, analice el resultado."
   ]
  },
  {
   "cell_type": "markdown",
   "id": "8363b0a2-2449-4b4c-8a14-430d2e6d0c2b",
   "metadata": {},
   "source": [
    "### Paso 6. Utilice el modelo que se comportó mejor para predecir el \"Rating\" de las filas que tienen ese dato nulo, revise manualmente si la calificación predicha es consistente con el comentario en la reseña."
   ]
  },
  {
   "cell_type": "markdown",
   "id": "235822c5-e84f-4455-9ade-ea1556d0fefa",
   "metadata": {},
   "source": [
    "### Paso 7. Escriba sus conclusiones al respecto."
   ]
  },
  {
   "cell_type": "markdown",
   "id": "05c18f49-2fd9-42a0-9621-bc0ab4387671",
   "metadata": {},
   "source": [
    "## ETAPA 4: PRESENTACIÓN DEL PROYECTO.\n",
    "### Al igual que en los proyectos anteriores, suba su trabajo terminado a un repositorio nuevo de su GitHub.\n",
    "### Escriba un archivo \"README\" y describa el proceso seguido en este trabajo.\n",
    "### Al entregar este trabajo, debe subir este archivo, el archivo de instrucciones y el enlace al repositorio público de GitHub con este trabajo."
   ]
  }
 ],
 "metadata": {
  "kernelspec": {
   "display_name": "Python 3 (ipykernel)",
   "language": "python",
   "name": "python3"
  },
  "language_info": {
   "codemirror_mode": {
    "name": "ipython",
    "version": 3
   },
   "file_extension": ".py",
   "mimetype": "text/x-python",
   "name": "python",
   "nbconvert_exporter": "python",
   "pygments_lexer": "ipython3",
   "version": "3.10.13"
  }
 },
 "nbformat": 4,
 "nbformat_minor": 5
}
