{
 "cells": [
  {
   "cell_type": "markdown",
   "id": "b2132627",
   "metadata": {},
   "source": [
    "# UNIDAD 4 - PROYECTO: ANÁLISIS DE SENTIMIENTOS Y PREDICCIÓN."
   ]
  },
  {
   "cell_type": "markdown",
   "id": "7ae4a441",
   "metadata": {},
   "source": [
    "## ALUMNO: \n",
    "## NÚMERO DE CONTROL:\n"
   ]
  },
  {
   "cell_type": "markdown",
   "id": "9336d5c6",
   "metadata": {},
   "source": [
    "## PRESENTACIÓN.\n",
    "\n",
    "El siguiente proyecto consiste en emplear el análisis de sentimientos para tratar de predecir las calificaciones de una serie.\n",
    "\n",
    "El dataset es sobre las calificaciones que recibió la adaptación al \"live-action\" el anime \"OnePiece\".\n",
    "\n",
    "El dataset contiene las reseñas que se recibieron en la plataforma de Netflix, el dataset contiene información como:\n",
    "\n",
    "* Título.\n",
    "* Reseña.\n",
    "* Fecha.\n",
    "* Calificación.\n"
   ]
  },
  {
   "cell_type": "markdown",
   "id": "2d9d06a4",
   "metadata": {},
   "source": [
    "## ETAPA 1: ANÁLISIS EXPLORATORIO DE LOS DATOS.\n",
    "\n",
    "### Paso 1. Importe las librerías necesarias (pandas, numpy, seaborn, nltk, etc...)\n",
    "\n",
    "### Paso 2. Cargue y muestre información del dataset; muestre información estadística de las columnas numéricas.\n",
    "\n",
    "### Paso 3. Identifique los datos nulos: muestre las filas que contienen datos nulos (no se deben tratar aún).\n",
    "\n",
    "### Paso 4. Muestre la distribución de la columna \"Rating\", haga un análisis de la distribución.\n",
    "\n",
    "### Paso 5. Identifique si alguna de las columnas se puede convertir en categórica.\n"
   ]
  },
  {
   "cell_type": "markdown",
   "id": "47b59718",
   "metadata": {},
   "source": [
    "## ETAPA 2: ANÁLISIS DE SENTIMIENTOS.\n",
    "\n",
    "### Paso 1. Muestre las primeras 10 filas del dataset con las columnas \"Rating\" y \"Review\", haga un análisis rápido de esa información.\n",
    "\n",
    "### Paso 2. Haga una función que se encargue del pre-procesamiento:\n",
    "#### - Genere los tokens.\n",
    "#### - Filtre las palabras de parada.\n",
    "#### - Obtenga el lema de las palabras y guárdelo en una lista.\n",
    "#### - Retorne la lista en forma de una cadena, para ello debe unir los elementos de la lista mediante un espacio.\n",
    "\n",
    "### Paso 3. Aplique la función creada para obtener el lema de las columnas \"Review\" y \"Title\", guárde el resultado en nuevas columnas dentro del dataframe original (por ejemplo: \"ReviewText\", \"TitleText\").\n",
    "\n",
    "### Paso 4. Haga una función para obtener el sentimiento de las palabras, para ello puede utilizar el SentimentIntensityAnalizer() y su función \"polarity_scores()\". Al final debe retornar el puntaje de sentimiento.\n",
    "\n",
    "### Paso 5. Aplique la función creada para obtener el sentimiento en las columnas creadas en el paso 3, guarde el resultado en un par de columnas nuevas (por ejemplo: \"ReviewSentiment\", \"TitleSentiment\").\n",
    "\n",
    "### Paso 6. Prepare un dataframe con las columnas originales + las columnas creadas previamente, tendrían que haber 8 columnas, 3 de ellas deben ser numéricas (incluyendo \"Rating\").\n",
    "\n"
   ]
  },
  {
   "cell_type": "markdown",
   "id": "fcfec7fb",
   "metadata": {},
   "source": [
    "## ETAPA 3: MACHINE LEARNING.\n",
    "\n",
    "### Paso 1. Asigne a la variable X las columnas numéricas menos \"Rating\"; asigne a la variable y la columna \"Rating\", seleccione únicamente las filas sin datos nulos (no elimine ni trate las filas con datos nulos, esas se usarán para predecir)\n",
    "\n",
    "### Paso 2. Divida en una muestra de entrenamiento y en una muestra de pruebas, estratifique en base a la proporción de la variable objetivo. El tamaño de la muestra para entrenamiento debe ser del 85%. Asigne una semilla para poder reproducir los resultados.\n",
    "\n",
    "### Paso 3. Entrene los siguientes modelos:\n",
    "#### - KNN para clasificación\n",
    "#### - SVM para clasificación\n",
    "#### - RandomForest para clasificación\n",
    "\n",
    "### Paso 4. Evalúe el rendimiento de los modelos (puede usar accuracy) creados en el paso previo, muestre las predicciones realizadas y compare con las etiquetas reales.\n",
    "\n",
    "### Paso 5. Debido a que este es un problema de clasificación, pero hay varias clases que son originalmente numéricas, se puede aplicar también una métrica de evaluación para regresión. Aplique el RMSE a las predicciones y las etiquetas reales, analice el resultado.\n",
    "\n",
    "### Paso 6. Utilice el modelo que se comportó mejor para predecir el \"Rating\" de las filas que tienen ese dato nulo, revise manualmente si la calificación predicha es consistente con el comentario en la reseña.\n",
    "\n",
    "### Paso 7. Escriba sus conclusiones al respecto."
   ]
  },
  {
   "cell_type": "markdown",
   "id": "d36c77cc",
   "metadata": {},
   "source": [
    "## ETAPA 4: PRESENTACIÓN DEL PROYECTO.\n",
    "### Al igual que en los proyectos anteriores, suba su trabajo terminado a un repositorio nuevo de su GitHub.\n",
    "### Escriba un archivo \"README\" y describa el proceso seguido en este trabajo.\n",
    "### Al entregar este trabajo, debe subir este archivo, el archivo de instrucciones y el enlace al repositorio público de GitHub con este trabajo."
   ]
  }
 ],
 "metadata": {
  "kernelspec": {
   "display_name": "Python 3 (ipykernel)",
   "language": "python",
   "name": "python3"
  },
  "language_info": {
   "codemirror_mode": {
    "name": "ipython",
    "version": 3
   },
   "file_extension": ".py",
   "mimetype": "text/x-python",
   "name": "python",
   "nbconvert_exporter": "python",
   "pygments_lexer": "ipython3",
   "version": "3.11.4"
  }
 },
 "nbformat": 4,
 "nbformat_minor": 5
}
